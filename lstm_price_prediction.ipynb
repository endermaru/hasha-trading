{
 "cells": [
  {
   "cell_type": "code",
   "execution_count": 1,
   "id": "56a5f832",
   "metadata": {},
   "outputs": [],
   "source": [
    "import pyupbit\n",
    "import pandas as pd\n",
    "from dotenv import load_dotenv\n",
    "import os\n",
    "from datetime import datetime, timedelta\n",
    "import datetime as dt\n",
    "import time"
   ]
  },
  {
   "cell_type": "markdown",
   "id": "63ef8163",
   "metadata": {},
   "source": [
    "# 데이터 수집"
   ]
  },
  {
   "cell_type": "code",
   "execution_count": 4,
   "id": "df1650b9",
   "metadata": {},
   "outputs": [],
   "source": [
    "load_dotenv()\n",
    "\n",
    "access_key = os.environ['access_key']\n",
    "secret_key = os.environ['secret_key']\n",
    "\n",
    "# 업비트 객체 생성\n",
    "upbit = pyupbit.Upbit(access_key, secret_key)\n"
   ]
  },
  {
   "cell_type": "code",
   "execution_count": 5,
   "id": "d8ad94b1",
   "metadata": {},
   "outputs": [
    {
     "name": "stdout",
     "output_type": "stream",
     "text": [
      "보유 자산 목록:\n",
      "([], {'group': 'default', 'min': 1800, 'sec': 29})\n",
      "현재 비트코인 가격: 161202000.0원\n"
     ]
    }
   ],
   "source": [
    "# 보유 잔액 확인\n",
    "balances = upbit.get_balances(contain_req=True)\n",
    "print(\"보유 자산 목록:\")\n",
    "print(balances)\n",
    "\n",
    "# 비트코인 현재 가격 조회\n",
    "price = pyupbit.get_current_price(\"KRW-BTC\")\n",
    "print(f\"현재 비트코인 가격: {price}원\")\n"
   ]
  },
  {
   "cell_type": "code",
   "execution_count": 32,
   "id": "dd0e7695",
   "metadata": {},
   "outputs": [
    {
     "name": "stdout",
     "output_type": "stream",
     "text": [
      "                            open         high          low        close  \\\n",
      "2025-08-17 23:55:00  163530000.0  163536000.0  163520000.0  163520000.0   \n",
      "2025-08-17 23:56:00  163520000.0  163520000.0  163510000.0  163511000.0   \n",
      "2025-08-17 23:57:00  163511000.0  163511000.0  163504000.0  163505000.0   \n",
      "2025-08-17 23:58:00  163505000.0  163505000.0  163500000.0  163501000.0   \n",
      "2025-08-17 23:59:00  163501000.0  163525000.0  163500000.0  163505000.0   \n",
      "\n",
      "                       volume         value  \n",
      "2025-08-17 23:55:00  0.371821  6.080245e+07  \n",
      "2025-08-17 23:56:00  0.340388  5.565761e+07  \n",
      "2025-08-17 23:57:00  0.255730  4.181414e+07  \n",
      "2025-08-17 23:58:00  1.110321  1.815386e+08  \n",
      "2025-08-17 23:59:00  0.585600  9.575024e+07  \n"
     ]
    }
   ],
   "source": [
    "t = pd.to_datetime(datetime.now()) - timedelta(minutes=10)\n",
    "\n",
    "t = \"2017-09-25 12:05:00\"\n",
    "t = \"2025-08-18 00:00:00\"\n",
    "t = pd.to_datetime(t, format='%Y-%m-%d %H:%M:%S') - timedelta(hours=9)\n",
    "t = t.strftime('%Y-%m-%d %H:%M:00')\n",
    "\n",
    "df = pyupbit.get_ohlcv(ticker=\"KRW-BTC\", interval=\"minute1\", count=5, to=t)\n",
    "print(df)"
   ]
  },
  {
   "cell_type": "code",
   "execution_count": null,
   "id": "f34ab68b",
   "metadata": {},
   "outputs": [
    {
     "name": "stderr",
     "output_type": "stream",
     "text": [
      "수집 시점: 2018-01-17 17:50:  95%|█████████▌| 3960000/4152960 [1:54:21<02:57, 1085.96it/s]"
     ]
    },
    {
     "name": "stdout",
     "output_type": "stream",
     "text": [
      "\n",
      "[19800번째 요청] 중간 저장 진행... (./data/BTC_1min_data_all.csv)\n"
     ]
    },
    {
     "name": "stderr",
     "output_type": "stream",
     "text": [
      "수집 시점: 2018-01-17 17:50:  95%|█████████▌| 3960000/4152960 [1:54:33<02:57, 1085.96it/s]"
     ]
    },
    {
     "name": "stdout",
     "output_type": "stream",
     "text": [
      "저장 완료. 현재까지 데이터 3959607개\n"
     ]
    },
    {
     "name": "stderr",
     "output_type": "stream",
     "text": [
      "수집 시점: 2018-01-03 19:57:  96%|█████████▌| 3980000/4152960 [1:55:11<02:45, 1047.27it/s]"
     ]
    },
    {
     "name": "stdout",
     "output_type": "stream",
     "text": [
      "\n",
      "[19900번째 요청] 중간 저장 진행... (./data/BTC_1min_data_all.csv)\n"
     ]
    },
    {
     "name": "stderr",
     "output_type": "stream",
     "text": [
      "수집 시점: 2018-01-03 19:57:  96%|█████████▌| 3980000/4152960 [1:55:23<02:45, 1047.27it/s]"
     ]
    },
    {
     "name": "stdout",
     "output_type": "stream",
     "text": [
      "저장 완료. 현재까지 데이터 3979607개\n"
     ]
    },
    {
     "name": "stderr",
     "output_type": "stream",
     "text": [
      "수집 시점: 2017-12-20 19:29:  96%|█████████▋| 4000000/4152960 [1:55:59<02:27, 1038.94it/s]"
     ]
    },
    {
     "name": "stdout",
     "output_type": "stream",
     "text": [
      "\n",
      "[20000번째 요청] 중간 저장 진행... (./data/BTC_1min_data_all.csv)\n"
     ]
    },
    {
     "name": "stderr",
     "output_type": "stream",
     "text": [
      "수집 시점: 2017-12-20 19:29:  96%|█████████▋| 4000000/4152960 [1:56:13<02:27, 1038.94it/s]"
     ]
    },
    {
     "name": "stdout",
     "output_type": "stream",
     "text": [
      "저장 완료. 현재까지 데이터 3999607개\n"
     ]
    },
    {
     "name": "stderr",
     "output_type": "stream",
     "text": [
      "수집 시점: 2017-12-06 15:55:  97%|█████████▋| 4020000/4152960 [1:56:48<02:09, 1024.41it/s]"
     ]
    },
    {
     "name": "stdout",
     "output_type": "stream",
     "text": [
      "\n",
      "[20100번째 요청] 중간 저장 진행... (./data/BTC_1min_data_all.csv)\n"
     ]
    },
    {
     "name": "stderr",
     "output_type": "stream",
     "text": [
      "수집 시점: 2017-12-06 15:55:  97%|█████████▋| 4020000/4152960 [1:57:03<02:09, 1024.41it/s]"
     ]
    },
    {
     "name": "stdout",
     "output_type": "stream",
     "text": [
      "저장 완료. 현재까지 데이터 4019607개\n"
     ]
    },
    {
     "name": "stderr",
     "output_type": "stream",
     "text": [
      "수집 시점: 2017-11-22 17:34:  97%|█████████▋| 4040000/4152960 [1:57:38<01:50, 1026.50it/s]"
     ]
    },
    {
     "name": "stdout",
     "output_type": "stream",
     "text": [
      "\n",
      "[20200번째 요청] 중간 저장 진행... (./data/BTC_1min_data_all.csv)\n"
     ]
    },
    {
     "name": "stderr",
     "output_type": "stream",
     "text": [
      "수집 시점: 2017-11-22 17:34:  97%|█████████▋| 4040000/4152960 [1:57:53<01:50, 1026.50it/s]"
     ]
    },
    {
     "name": "stdout",
     "output_type": "stream",
     "text": [
      "저장 완료. 현재까지 데이터 4039607개\n"
     ]
    },
    {
     "name": "stderr",
     "output_type": "stream",
     "text": [
      "수집 시점: 2017-11-08 18:34:  98%|█████████▊| 4060000/4152960 [1:58:28<01:32, 1002.15it/s]"
     ]
    },
    {
     "name": "stdout",
     "output_type": "stream",
     "text": [
      "\n",
      "[20300번째 요청] 중간 저장 진행... (./data/BTC_1min_data_all.csv)\n"
     ]
    },
    {
     "name": "stderr",
     "output_type": "stream",
     "text": [
      "수집 시점: 2017-11-08 18:34:  98%|█████████▊| 4060000/4152960 [1:58:44<01:32, 1002.15it/s]"
     ]
    },
    {
     "name": "stdout",
     "output_type": "stream",
     "text": [
      "저장 완료. 현재까지 데이터 4059607개\n"
     ]
    },
    {
     "name": "stderr",
     "output_type": "stream",
     "text": [
      "수집 시점: 2017-10-24 17:14:  98%|█████████▊| 4080000/4152960 [1:59:18<01:11, 1015.83it/s]"
     ]
    },
    {
     "name": "stdout",
     "output_type": "stream",
     "text": [
      "\n",
      "[20400번째 요청] 중간 저장 진행... (./data/BTC_1min_data_all.csv)\n"
     ]
    },
    {
     "name": "stderr",
     "output_type": "stream",
     "text": [
      "수집 시점: 2017-10-24 17:14:  98%|█████████▊| 4080000/4152960 [1:59:34<01:11, 1015.83it/s]"
     ]
    },
    {
     "name": "stdout",
     "output_type": "stream",
     "text": [
      "저장 완료. 현재까지 데이터 4079399개\n"
     ]
    },
    {
     "name": "stderr",
     "output_type": "stream",
     "text": [
      "수집 시점: 2017-10-04 04:49:  99%|█████████▊| 4100000/4152960 [2:00:08<00:53, 995.79it/s] "
     ]
    },
    {
     "name": "stdout",
     "output_type": "stream",
     "text": [
      "\n",
      "[20500번째 요청] 중간 저장 진행... (./data/BTC_1min_data_all.csv)\n"
     ]
    },
    {
     "name": "stderr",
     "output_type": "stream",
     "text": [
      "수집 시점: 2017-10-04 04:49:  99%|█████████▊| 4100000/4152960 [2:00:24<00:53, 995.79it/s]"
     ]
    },
    {
     "name": "stdout",
     "output_type": "stream",
     "text": [
      "저장 완료. 현재까지 데이터 4099356개\n"
     ]
    },
    {
     "name": "stderr",
     "output_type": "stream",
     "text": [
      "수집 시점: 2017-09-25 12:00:  99%|█████████▉| 4111158/4152960 [2:00:49<01:13, 567.07it/s] \n"
     ]
    },
    {
     "name": "stdout",
     "output_type": "stream",
     "text": [
      "\n",
      "더 이상 가져올 데이터가 없거나 API 응답이 없습니다.\n",
      "\n",
      "--- 최종 데이터 정리 및 저장 ---\n",
      "\n",
      "--- 최종 수집된 데이터 ---\n",
      "수집된 데이터 개수: 4110499개\n",
      "데이터 기간: 2017-09-25 12:00:00 ~ 2025-08-17 23:59:00\n",
      "\n",
      "가장 오래된 데이터:\n",
      "                          open       high        low      close    volume  \\\n",
      "2017-09-25 12:00:00  4201000.0  4220000.0  4195000.0  4216000.0  3.811221   \n",
      "\n",
      "                            value  \n",
      "2017-09-25 12:00:00  1.603785e+07  \n",
      "\n",
      "가장 최신 데이터:\n",
      "                            open         high          low        close  \\\n",
      "2025-08-17 23:59:00  163501000.0  163525000.0  163500000.0  163505000.0   \n",
      "\n",
      "                     volume         value  \n",
      "2025-08-17 23:59:00  0.5856  9.575024e+07  \n",
      "\n",
      "모든 데이터가 성공적으로 './data/BTC_1min_data_all.csv'에 저장되었습니다.\n"
     ]
    }
   ],
   "source": [
    "import pyupbit\n",
    "import pandas as pd\n",
    "from datetime import datetime, timedelta\n",
    "import time\n",
    "from tqdm import tqdm  # tqdm 라이브러리를 가져옵니다.\n",
    "\n",
    "print(\"데이터 수집을 시작합니다...\")\n",
    "\n",
    "now = pd.to_datetime(\"2025-08-18 00:00:00\", format='%Y-%m-%d %H:%M:%S')\n",
    "# now = pd.to_datetime(\"2017-09-25 12:10:00\", format='%Y-%m-%d %H:%M:%S')\n",
    "coin = \"KRW-BTC\" # KRW-BTC, KRW-ETH, KRW-XRP\n",
    "\n",
    "# --- 설정 ---\n",
    "# days_to_collect = 1825\n",
    "# target_date = now - timedelta(days=days_to_collect)\n",
    "target_date = pd.to_datetime(\"2017-09-25 00:00:00\", format='%Y-%m-%d %H:%M:%S')\n",
    "days_to_collect = (now - target_date).days\n",
    "count_per_request = 200\n",
    "\n",
    "# --- 중간 저장을 위한 설정 ---\n",
    "save_interval = 100  # 100번의 요청마다 중간 저장\n",
    "loop_count = 0\n",
    "output_dir = \"./data/\"\n",
    "output_filepath = f\"{output_dir}{coin[-3:]}_data_all.csv\"\n",
    "\n",
    "# --- tqdm을 위한 전체 진행량 계산 ---\n",
    "# 30일은 총 몇 분인지 계산합니다. (1분봉 기준)\n",
    "total_minutes = days_to_collect * 24 * 60\n",
    "\n",
    "# --- 데이터 수집 ---\n",
    "all_df = pd.DataFrame()\n",
    "to_time = now\n",
    "\n",
    "# tqdm을 with 문과 함께 사용하여 루프가 끝나면 자동으로 정리되도록 합니다.\n",
    "with tqdm(total=total_minutes, desc=\"1분봉 데이터 수집\") as pbar:\n",
    "    while True:\n",
    "        try:\n",
    "            df = pyupbit.get_ohlcv(ticker=coin, interval=\"minute1\", count=count_per_request, to=(to_time - timedelta(hours=9)).strftime('%Y-%m-%d %H:%M:00'))\n",
    "\n",
    "            if df is None or df.empty:\n",
    "                print(\"\\n더 이상 가져올 데이터가 없거나 API 응답이 없습니다.\")\n",
    "                break\n",
    "\n",
    "            all_df = pd.concat([df, all_df])\n",
    "            loop_count += 1\n",
    "            \n",
    "            pbar.update(len(df))\n",
    "            oldest_time_in_df = df.index[0]\n",
    "            pbar.set_description(f\"수집 시점: {oldest_time_in_df.strftime('%Y-%m-%d %H:%M')}\")\n",
    "\n",
    "            # --- 중간 저장 로직 ---\n",
    "            if loop_count % save_interval == 0:\n",
    "                # 중복 데이터 제거 및 정렬 후 저장\n",
    "                temp_df = all_df.drop_duplicates().sort_index()\n",
    "                print(f\"\\n[{loop_count}번째 요청] 중간 저장 진행... ({output_filepath})\")\n",
    "                temp_df.to_csv(output_filepath, encoding='utf-8-sig')\n",
    "                print(f\"저장 완료. 현재까지 데이터 {len(temp_df)}개\")\n",
    "\n",
    "            if oldest_time_in_df <= target_date:\n",
    "                print(f\"\\n목표 날짜({target_date.strftime('%Y-%m-%d')}) 이전 데이터에 도달하여 수집을 완료합니다.\")\n",
    "                break\n",
    "                \n",
    "            to_time = oldest_time_in_df\n",
    "            time.sleep(0.1)\n",
    "        \n",
    "        except Exception as e:\n",
    "            print(f\"\\n오류 발생: {e}. 5초 후 재시도합니다.\")\n",
    "            time.sleep(5)\n",
    "\n",
    "\n",
    "# --- 데이터 후처리 및 최종 저장 ---\n",
    "print(\"\\n--- 최종 데이터 정리 및 저장 ---\")\n",
    "if not all_df.empty:\n",
    "    final_df = all_df.drop_duplicates().sort_index()\n",
    "    # 수집 루프에서 target_date 이전 데이터까지 포함되었을 수 있으므로 필터링\n",
    "    final_df = final_df[final_df.index >= target_date]\n",
    "    final_df.to_csv(output_filepath, encoding='utf-8-sig')\n",
    "else:\n",
    "    final_df = all_df\n",
    "\n",
    "print(\"\\n--- 최종 수집된 데이터 ---\")\n",
    "if not final_df.empty:\n",
    "    print(f\"수집된 데이터 개수: {len(final_df)}개\")\n",
    "    print(f\"데이터 기간: {final_df.index[0]} ~ {final_df.index[-1]}\")\n",
    "    print(\"\\n가장 오래된 데이터:\")\n",
    "    print(final_df.head(1))\n",
    "    print(\"\\n가장 최신 데이터:\")\n",
    "    print(final_df.tail(1))\n",
    "else:\n",
    "    print(\"수집된 데이터가 없습니다.\")\n",
    "\n",
    "print(f\"\\n모든 데이터가 성공적으로 '{output_filepath}'에 저장되었습니다.\")\n"
   ]
  },
  {
   "cell_type": "code",
   "execution_count": null,
   "id": "15d61c50",
   "metadata": {},
   "outputs": [
    {
     "name": "stderr",
     "output_type": "stream",
     "text": [
      "C:\\Users\\endermaru\\AppData\\Local\\Temp\\ipykernel_35804\\3705927807.py:15: FutureWarning: YF.download() has changed argument auto_adjust default to True\n",
      "  gold_data = yf.download(tickers=\"GC=F\", period=\"100d\", interval=interval)\n",
      "[*********************100%***********************]  1 of 1 completed\n",
      "C:\\Users\\endermaru\\AppData\\Local\\Temp\\ipykernel_35804\\3705927807.py:18: FutureWarning: YF.download() has changed argument auto_adjust default to True\n",
      "  dollar_data = yf.download(tickers=\"DX-Y.NYB\", period=\"100d\", interval=interval)\n",
      "[*********************100%***********************]  1 of 1 completed\n"
     ]
    }
   ],
   "source": [
    "import yfinance as yf\n",
    "import pandas as pd\n",
    "\n",
    "interval = \"1h\"\n",
    "\n",
    "# S&P 500 데이터 다운로드 (티커: ^GSPC)\n",
    "# period=\"730d\": 최근 730일간의 데이터\n",
    "# interval=\"60m\": 60분(1시간) 봉 단위\n",
    "sp500_data = yf.download(tickers=\"^GSPC\", period=\"91d\", interval=interval)\n",
    "\n",
    "# 나스닥 종합지수 데이터 다운로드 (티커: ^IXIC)\n",
    "nasdaq_data = yf.download(tickers=\"^IXIC\", period=\"91d\", interval=interval)\n",
    "\n",
    "# 금 선물\n",
    "gold_data = yf.download(tickers=\"GC=F\", period=\"100d\", interval=interval)\n",
    "\n",
    "# 달러 인덱스\n",
    "dollar_data = yf.download(tickers=\"DX-Y.NYB\", period=\"100d\", interval=interval)\n",
    "\n",
    "\n",
    "# 다운로드한 데이터를 CSV 파일로 저장\n",
    "sp500_data.to_csv(f\"sp500_{interval}_data.csv\")\n",
    "nasdaq_data.to_csv(f\"nasdaq_{interval}_data.csv\")\n",
    "gold_data.to_csv(f\"Gold_{interval}_data.csv\")\n",
    "dollar_data.to_csv(f\"Dollar_{interval}_data.csv\")"
   ]
  },
  {
   "cell_type": "markdown",
   "id": "f1c3644e",
   "metadata": {},
   "source": [
    "# 데이터 전처리"
   ]
  },
  {
   "cell_type": "markdown",
   "id": "00d36be4",
   "metadata": {},
   "source": [
    "### 1분봉"
   ]
  },
  {
   "cell_type": "code",
   "execution_count": null,
   "id": "f71773a1",
   "metadata": {},
   "outputs": [
    {
     "data": {
      "text/html": [
       "<div>\n",
       "<style scoped>\n",
       "    .dataframe tbody tr th:only-of-type {\n",
       "        vertical-align: middle;\n",
       "    }\n",
       "\n",
       "    .dataframe tbody tr th {\n",
       "        vertical-align: top;\n",
       "    }\n",
       "\n",
       "    .dataframe thead th {\n",
       "        text-align: right;\n",
       "    }\n",
       "</style>\n",
       "<table border=\"1\" class=\"dataframe\">\n",
       "  <thead>\n",
       "    <tr style=\"text-align: right;\">\n",
       "      <th></th>\n",
       "      <th>btc_open</th>\n",
       "      <th>btc_high</th>\n",
       "      <th>btc_low</th>\n",
       "      <th>btc_close</th>\n",
       "      <th>btc_volume</th>\n",
       "      <th>eth_open</th>\n",
       "      <th>eth_high</th>\n",
       "      <th>eth_low</th>\n",
       "      <th>eth_close</th>\n",
       "      <th>eth_volume</th>\n",
       "      <th>xrp_open</th>\n",
       "      <th>xrp_high</th>\n",
       "      <th>xrp_low</th>\n",
       "      <th>xrp_close</th>\n",
       "      <th>xrp_volume</th>\n",
       "    </tr>\n",
       "    <tr>\n",
       "      <th>Datetime</th>\n",
       "      <th></th>\n",
       "      <th></th>\n",
       "      <th></th>\n",
       "      <th></th>\n",
       "      <th></th>\n",
       "      <th></th>\n",
       "      <th></th>\n",
       "      <th></th>\n",
       "      <th></th>\n",
       "      <th></th>\n",
       "      <th></th>\n",
       "      <th></th>\n",
       "      <th></th>\n",
       "      <th></th>\n",
       "      <th></th>\n",
       "    </tr>\n",
       "  </thead>\n",
       "  <tbody>\n",
       "    <tr>\n",
       "      <th>2025-05-12 00:00:00</th>\n",
       "      <td>145676000.0</td>\n",
       "      <td>145677000.0</td>\n",
       "      <td>145626000.0</td>\n",
       "      <td>145677000.0</td>\n",
       "      <td>0.374630</td>\n",
       "      <td>3477000.0</td>\n",
       "      <td>3479000.0</td>\n",
       "      <td>3474000.0</td>\n",
       "      <td>3478000.0</td>\n",
       "      <td>6.891271</td>\n",
       "      <td>3302.0</td>\n",
       "      <td>3302.0</td>\n",
       "      <td>3299.0</td>\n",
       "      <td>3301.0</td>\n",
       "      <td>18793.671558</td>\n",
       "    </tr>\n",
       "    <tr>\n",
       "      <th>2025-05-12 00:01:00</th>\n",
       "      <td>145677000.0</td>\n",
       "      <td>145700000.0</td>\n",
       "      <td>145623000.0</td>\n",
       "      <td>145623000.0</td>\n",
       "      <td>0.188528</td>\n",
       "      <td>3478000.0</td>\n",
       "      <td>3482000.0</td>\n",
       "      <td>3478000.0</td>\n",
       "      <td>3478000.0</td>\n",
       "      <td>9.746652</td>\n",
       "      <td>3301.0</td>\n",
       "      <td>3302.0</td>\n",
       "      <td>3300.0</td>\n",
       "      <td>3301.0</td>\n",
       "      <td>10688.836095</td>\n",
       "    </tr>\n",
       "    <tr>\n",
       "      <th>2025-05-12 00:02:00</th>\n",
       "      <td>145625000.0</td>\n",
       "      <td>145700000.0</td>\n",
       "      <td>145620000.0</td>\n",
       "      <td>145623000.0</td>\n",
       "      <td>0.728360</td>\n",
       "      <td>3480000.0</td>\n",
       "      <td>3482000.0</td>\n",
       "      <td>3479000.0</td>\n",
       "      <td>3482000.0</td>\n",
       "      <td>9.372693</td>\n",
       "      <td>3301.0</td>\n",
       "      <td>3306.0</td>\n",
       "      <td>3301.0</td>\n",
       "      <td>3305.0</td>\n",
       "      <td>24399.604280</td>\n",
       "    </tr>\n",
       "    <tr>\n",
       "      <th>2025-05-12 00:03:00</th>\n",
       "      <td>145695000.0</td>\n",
       "      <td>145700000.0</td>\n",
       "      <td>145624000.0</td>\n",
       "      <td>145693000.0</td>\n",
       "      <td>0.281259</td>\n",
       "      <td>3480000.0</td>\n",
       "      <td>3485000.0</td>\n",
       "      <td>3479000.0</td>\n",
       "      <td>3485000.0</td>\n",
       "      <td>12.685174</td>\n",
       "      <td>3306.0</td>\n",
       "      <td>3306.0</td>\n",
       "      <td>3302.0</td>\n",
       "      <td>3304.0</td>\n",
       "      <td>7223.902515</td>\n",
       "    </tr>\n",
       "    <tr>\n",
       "      <th>2025-05-12 00:04:00</th>\n",
       "      <td>145693000.0</td>\n",
       "      <td>145755000.0</td>\n",
       "      <td>145693000.0</td>\n",
       "      <td>145755000.0</td>\n",
       "      <td>0.861492</td>\n",
       "      <td>3485000.0</td>\n",
       "      <td>3493000.0</td>\n",
       "      <td>3485000.0</td>\n",
       "      <td>3491000.0</td>\n",
       "      <td>29.567548</td>\n",
       "      <td>3304.0</td>\n",
       "      <td>3310.0</td>\n",
       "      <td>3304.0</td>\n",
       "      <td>3310.0</td>\n",
       "      <td>57426.118510</td>\n",
       "    </tr>\n",
       "  </tbody>\n",
       "</table>\n",
       "</div>"
      ],
      "text/plain": [
       "                        btc_open     btc_high      btc_low    btc_close  \\\n",
       "Datetime                                                                  \n",
       "2025-05-12 00:00:00  145676000.0  145677000.0  145626000.0  145677000.0   \n",
       "2025-05-12 00:01:00  145677000.0  145700000.0  145623000.0  145623000.0   \n",
       "2025-05-12 00:02:00  145625000.0  145700000.0  145620000.0  145623000.0   \n",
       "2025-05-12 00:03:00  145695000.0  145700000.0  145624000.0  145693000.0   \n",
       "2025-05-12 00:04:00  145693000.0  145755000.0  145693000.0  145755000.0   \n",
       "\n",
       "                     btc_volume   eth_open   eth_high    eth_low  eth_close  \\\n",
       "Datetime                                                                      \n",
       "2025-05-12 00:00:00    0.374630  3477000.0  3479000.0  3474000.0  3478000.0   \n",
       "2025-05-12 00:01:00    0.188528  3478000.0  3482000.0  3478000.0  3478000.0   \n",
       "2025-05-12 00:02:00    0.728360  3480000.0  3482000.0  3479000.0  3482000.0   \n",
       "2025-05-12 00:03:00    0.281259  3480000.0  3485000.0  3479000.0  3485000.0   \n",
       "2025-05-12 00:04:00    0.861492  3485000.0  3493000.0  3485000.0  3491000.0   \n",
       "\n",
       "                     eth_volume  xrp_open  xrp_high  xrp_low  xrp_close  \\\n",
       "Datetime                                                                  \n",
       "2025-05-12 00:00:00    6.891271    3302.0    3302.0   3299.0     3301.0   \n",
       "2025-05-12 00:01:00    9.746652    3301.0    3302.0   3300.0     3301.0   \n",
       "2025-05-12 00:02:00    9.372693    3301.0    3306.0   3301.0     3305.0   \n",
       "2025-05-12 00:03:00   12.685174    3306.0    3306.0   3302.0     3304.0   \n",
       "2025-05-12 00:04:00   29.567548    3304.0    3310.0   3304.0     3310.0   \n",
       "\n",
       "                       xrp_volume  \n",
       "Datetime                           \n",
       "2025-05-12 00:00:00  18793.671558  \n",
       "2025-05-12 00:01:00  10688.836095  \n",
       "2025-05-12 00:02:00  24399.604280  \n",
       "2025-05-12 00:03:00   7223.902515  \n",
       "2025-05-12 00:04:00  57426.118510  "
      ]
     },
     "execution_count": 8,
     "metadata": {},
     "output_type": "execute_result"
    }
   ],
   "source": [
    "start_date = '2025-05-12 00:00:00'\n",
    "end_date = '2025-08-09 23:59:00'\n",
    "\n",
    "# 1분 단위의 DatetimeIndex를 생성하고, 'Asia/Seoul' 시간대를 설정합니다.\n",
    "date_range_index = pd.date_range(start=start_date, end=end_date, freq='min')\n",
    "\n",
    "# 생성된 인덱스를 사용하여 빈 DataFrame을 만듭니다.\n",
    "df_coin = pd.DataFrame(index=date_range_index)\n",
    "df_coin.head()\n",
    "\n",
    "df_btc = pd.read_csv(\"./data/BTC_1min_data.csv\", index_col=0, parse_dates=True)[['open','high','low','close','volume']]\n",
    "df_btc.columns = 'btc_' + df_btc.columns\n",
    "\n",
    "df_eth = pd.read_csv(\"./data/ETH_1min_data.csv\", index_col=0, parse_dates=True)[['open','high','low','close','volume']]\n",
    "df_eth.columns = 'eth_' + df_eth.columns\n",
    "\n",
    "df_xrp = pd.read_csv(\"./data/XRP_1min_data.csv\", index_col=0, parse_dates=True)[['open','high','low','close','volume']]\n",
    "df_xrp.columns = 'xrp_' + df_xrp.columns\n",
    "\n",
    "df_coin = pd.concat([df_coin, df_btc, df_eth, df_xrp], axis=1)\n",
    "\n",
    "df_coin.index.name = 'Datetime'\n",
    "\n",
    "# df = df[df.index >= pd.to_datetime(\"2025-05-13 00:00:00\")]\n",
    "df_coin.head()"
   ]
  },
  {
   "cell_type": "code",
   "execution_count": null,
   "id": "a22f4a6c",
   "metadata": {},
   "outputs": [
    {
     "name": "stderr",
     "output_type": "stream",
     "text": [
      "C:\\Users\\endermaru\\AppData\\Local\\Temp\\ipykernel_16572\\3295662030.py:33: FutureWarning: DataFrame.fillna with 'method' is deprecated and will raise in a future version. Use obj.ffill() or obj.bfill() instead.\n",
      "  df_total = df_total.fillna(method='ffill')\n"
     ]
    },
    {
     "name": "stdout",
     "output_type": "stream",
     "text": [
      "                        btc_open     btc_high      btc_low    btc_close  \\\n",
      "Datetime                                                                  \n",
      "2025-05-12 00:00:00  145676000.0  145677000.0  145626000.0  145677000.0   \n",
      "2025-05-12 00:01:00  145677000.0  145700000.0  145623000.0  145623000.0   \n",
      "2025-05-12 00:02:00  145625000.0  145700000.0  145620000.0  145623000.0   \n",
      "2025-05-12 00:03:00  145695000.0  145700000.0  145624000.0  145693000.0   \n",
      "2025-05-12 00:04:00  145693000.0  145755000.0  145693000.0  145755000.0   \n",
      "\n",
      "                     btc_volume   eth_open   eth_high    eth_low  eth_close  \\\n",
      "Datetime                                                                      \n",
      "2025-05-12 00:00:00    0.374630  3477000.0  3479000.0  3474000.0  3478000.0   \n",
      "2025-05-12 00:01:00    0.188528  3478000.0  3482000.0  3478000.0  3478000.0   \n",
      "2025-05-12 00:02:00    0.728360  3480000.0  3482000.0  3479000.0  3482000.0   \n",
      "2025-05-12 00:03:00    0.281259  3480000.0  3485000.0  3479000.0  3485000.0   \n",
      "2025-05-12 00:04:00    0.861492  3485000.0  3493000.0  3485000.0  3491000.0   \n",
      "\n",
      "                     eth_volume  ...  nasdaq_close   nasdaq_high  nasdaq_low  \\\n",
      "Datetime                         ...                                           \n",
      "2025-05-12 00:00:00    6.891271  ...  17925.759766  17953.833984  17920.0625   \n",
      "2025-05-12 00:01:00    9.746652  ...  17925.759766  17953.833984  17920.0625   \n",
      "2025-05-12 00:02:00    9.372693  ...  17925.759766  17953.833984  17920.0625   \n",
      "2025-05-12 00:03:00   12.685174  ...  17925.759766  17953.833984  17920.0625   \n",
      "2025-05-12 00:04:00   29.567548  ...  17925.759766  17953.833984  17920.0625   \n",
      "\n",
      "                      nasdaq_open  nasdaq_volume  sp500_close   sp500_high  \\\n",
      "Datetime                                                                     \n",
      "2025-05-12 00:00:00  17943.357422    641874000.0  5659.149902  5667.169922   \n",
      "2025-05-12 00:01:00  17943.357422    641874000.0  5659.149902  5667.169922   \n",
      "2025-05-12 00:02:00  17943.357422    641874000.0  5659.149902  5667.169922   \n",
      "2025-05-12 00:03:00  17943.357422    641874000.0  5659.149902  5667.169922   \n",
      "2025-05-12 00:04:00  17943.357422    641874000.0  5659.149902  5667.169922   \n",
      "\n",
      "                       sp500_low   sp500_open  sp500_volume  \n",
      "Datetime                                                     \n",
      "2025-05-12 00:00:00  5657.399902  5665.669922   360615000.0  \n",
      "2025-05-12 00:01:00  5657.399902  5665.669922   360615000.0  \n",
      "2025-05-12 00:02:00  5657.399902  5665.669922   360615000.0  \n",
      "2025-05-12 00:03:00  5657.399902  5665.669922   360615000.0  \n",
      "2025-05-12 00:04:00  5657.399902  5665.669922   360615000.0  \n",
      "\n",
      "[5 rows x 35 columns]\n"
     ]
    }
   ],
   "source": [
    "df_dollar = pd.read_csv(\"./data/Dollar_1h_data.csv\", index_col=0, parse_dates=True, header = 0, skiprows = [1,2])\n",
    "df_gold = pd.read_csv(\"./data/Gold_1h_data.csv\", index_col=0, parse_dates=True, header = 0, skiprows = [1,2])\n",
    "df_nasdaq = pd.read_csv(\"./data/Nasdaq_1h_data.csv\", index_col=0, parse_dates=True, header = 0, skiprows = [1,2])\n",
    "df_sp500 = pd.read_csv(\"./data/SP500_1h_data.csv\", index_col=0, parse_dates=True, header = 0, skiprows = [1,2])\n",
    "\n",
    "\n",
    "for _df, _ticker in zip([df_dollar, df_gold, df_nasdaq, df_sp500], ['dollar', 'gold', 'nasdaq', 'sp500']):\n",
    "    _df.index.name = 'Datetime'\n",
    "    _df.columns = _ticker + '_' + _df.columns.str.lower()\n",
    "\n",
    "df_others = pd.concat([df_dollar, df_gold, df_nasdaq, df_sp500], axis=1)\n",
    "\n",
    "df_others.index = df_others.index.tz_convert('Asia/Seoul')\n",
    "df_others.index = df_others.index.tz_localize(None)\n",
    "# df_others = df_others[df_others.index >= df_coin.index[0]]\n",
    "\n",
    "# df_others.head()\n",
    "\n",
    "df_total = pd.concat([df_coin, df_others], axis=1)\n",
    "\n",
    "# 거래량은 NaN값 별도 처리\n",
    "volume_cols = ['nasdaq_volume', 'sp500_volume']\n",
    "\n",
    "# 장중 시간 정의\n",
    "start_time = dt.time(22, 30)\n",
    "end_time = dt.time(5, 0)\n",
    "is_trading_hours = (df_total.index.time >= start_time) | (df_total.index.time <= end_time)\n",
    "\n",
    "# 비거래 시간(~is_trading_hours)에 해당하는 volume 컬럼의 NaN 값을 0으로 먼저 채우기\n",
    "df_total.loc[~is_trading_hours, volume_cols] = df_total.loc[~is_trading_hours, volume_cols].fillna(0)\n",
    "\n",
    "# 나머지 NaN값은 ffill 처리\n",
    "df_total = df_total.fillna(method='ffill')\n",
    "\n",
    "df_total = df_total[(df_total.index >= pd.to_datetime(start_date)) & (df_total.index <= pd.to_datetime(end_date))]\n",
    "\n",
    "print(df_total.head())\n",
    "df_total.to_csv(\"./data/data.csv\", encoding='utf-8-sig')\n",
    "\n"
   ]
  },
  {
   "cell_type": "markdown",
   "id": "4186b15b",
   "metadata": {},
   "source": [
    "# 훈련"
   ]
  },
  {
   "cell_type": "code",
   "execution_count": 26,
   "id": "5a517f23",
   "metadata": {},
   "outputs": [],
   "source": [
    "import pandas as pd\n",
    "import numpy as np\n",
    "import matplotlib.pyplot as plt\n",
    "from sklearn.preprocessing import MinMaxScaler\n",
    "from tensorflow.keras.models import Sequential\n",
    "from tensorflow.keras.layers import LSTM, Dense, Dropout, Input, Bidirectional\n",
    "from tensorflow.keras.callbacks import EarlyStopping, ModelCheckpoint\n",
    "from tensorflow.keras.models import load_model\n",
    "\n",
    "import joblib"
   ]
  },
  {
   "cell_type": "code",
   "execution_count": null,
   "id": "6bc8012e",
   "metadata": {},
   "outputs": [],
   "source": [
    "# from google.colab import drive\n",
    "# drive.mount('/content/drive')\n",
    "\n",
    "# df = pd.read_csv(\"/content/drive/MyDrive/Colab Notebooks/data.csv\", index_col=0, parse_dates=True)\n",
    "df = pd.read_csv(\"./data/data.csv\", index_col=0, parse_dates=True)"
   ]
  },
  {
   "cell_type": "code",
   "execution_count": null,
   "id": "a66d2fbe",
   "metadata": {},
   "outputs": [
    {
     "name": "stdout",
     "output_type": "stream",
     "text": [
      "Index(['btc_open', 'btc_high', 'btc_low', 'btc_close', 'btc_volume',\n",
      "       'eth_open', 'eth_high', 'eth_low', 'eth_close', 'eth_volume',\n",
      "       'xrp_open', 'xrp_high', 'xrp_low', 'xrp_close', 'xrp_volume',\n",
      "       'dollar_close', 'dollar_high', 'dollar_low', 'dollar_open',\n",
      "       'dollar_volume', 'gold_close', 'gold_high', 'gold_low', 'gold_open',\n",
      "       'gold_volume', 'nasdaq_close', 'nasdaq_high', 'nasdaq_low',\n",
      "       'nasdaq_open', 'nasdaq_volume', 'sp500_close', 'sp500_high',\n",
      "       'sp500_low', 'sp500_open', 'sp500_volume'],\n",
      "      dtype='object')\n",
      "2025-05-12 00:00:00 2025-08-09 23:59:00\n",
      "(129600, 35)\n"
     ]
    },
    {
     "data": {
      "text/html": [
       "<div>\n",
       "<style scoped>\n",
       "    .dataframe tbody tr th:only-of-type {\n",
       "        vertical-align: middle;\n",
       "    }\n",
       "\n",
       "    .dataframe tbody tr th {\n",
       "        vertical-align: top;\n",
       "    }\n",
       "\n",
       "    .dataframe thead th {\n",
       "        text-align: right;\n",
       "    }\n",
       "</style>\n",
       "<table border=\"1\" class=\"dataframe\">\n",
       "  <thead>\n",
       "    <tr style=\"text-align: right;\">\n",
       "      <th></th>\n",
       "      <th>btc_open</th>\n",
       "      <th>btc_high</th>\n",
       "      <th>btc_low</th>\n",
       "      <th>btc_close</th>\n",
       "      <th>btc_volume</th>\n",
       "      <th>eth_open</th>\n",
       "      <th>eth_high</th>\n",
       "      <th>eth_low</th>\n",
       "      <th>eth_close</th>\n",
       "      <th>eth_volume</th>\n",
       "      <th>...</th>\n",
       "      <th>nasdaq_close</th>\n",
       "      <th>nasdaq_high</th>\n",
       "      <th>nasdaq_low</th>\n",
       "      <th>nasdaq_open</th>\n",
       "      <th>nasdaq_volume</th>\n",
       "      <th>sp500_close</th>\n",
       "      <th>sp500_high</th>\n",
       "      <th>sp500_low</th>\n",
       "      <th>sp500_open</th>\n",
       "      <th>sp500_volume</th>\n",
       "    </tr>\n",
       "    <tr>\n",
       "      <th>Datetime</th>\n",
       "      <th></th>\n",
       "      <th></th>\n",
       "      <th></th>\n",
       "      <th></th>\n",
       "      <th></th>\n",
       "      <th></th>\n",
       "      <th></th>\n",
       "      <th></th>\n",
       "      <th></th>\n",
       "      <th></th>\n",
       "      <th></th>\n",
       "      <th></th>\n",
       "      <th></th>\n",
       "      <th></th>\n",
       "      <th></th>\n",
       "      <th></th>\n",
       "      <th></th>\n",
       "      <th></th>\n",
       "      <th></th>\n",
       "      <th></th>\n",
       "      <th></th>\n",
       "    </tr>\n",
       "  </thead>\n",
       "  <tbody>\n",
       "    <tr>\n",
       "      <th>2025-05-12 00:00:00</th>\n",
       "      <td>145676000.0</td>\n",
       "      <td>145677000.0</td>\n",
       "      <td>145626000.0</td>\n",
       "      <td>145677000.0</td>\n",
       "      <td>0.374630</td>\n",
       "      <td>3477000.0</td>\n",
       "      <td>3479000.0</td>\n",
       "      <td>3474000.0</td>\n",
       "      <td>3478000.0</td>\n",
       "      <td>6.891271</td>\n",
       "      <td>...</td>\n",
       "      <td>17925.759766</td>\n",
       "      <td>17953.833984</td>\n",
       "      <td>17920.0625</td>\n",
       "      <td>17943.357422</td>\n",
       "      <td>641874000.0</td>\n",
       "      <td>5659.149902</td>\n",
       "      <td>5667.169922</td>\n",
       "      <td>5657.399902</td>\n",
       "      <td>5665.669922</td>\n",
       "      <td>360615000.0</td>\n",
       "    </tr>\n",
       "    <tr>\n",
       "      <th>2025-05-12 00:01:00</th>\n",
       "      <td>145677000.0</td>\n",
       "      <td>145700000.0</td>\n",
       "      <td>145623000.0</td>\n",
       "      <td>145623000.0</td>\n",
       "      <td>0.188528</td>\n",
       "      <td>3478000.0</td>\n",
       "      <td>3482000.0</td>\n",
       "      <td>3478000.0</td>\n",
       "      <td>3478000.0</td>\n",
       "      <td>9.746652</td>\n",
       "      <td>...</td>\n",
       "      <td>17925.759766</td>\n",
       "      <td>17953.833984</td>\n",
       "      <td>17920.0625</td>\n",
       "      <td>17943.357422</td>\n",
       "      <td>641874000.0</td>\n",
       "      <td>5659.149902</td>\n",
       "      <td>5667.169922</td>\n",
       "      <td>5657.399902</td>\n",
       "      <td>5665.669922</td>\n",
       "      <td>360615000.0</td>\n",
       "    </tr>\n",
       "    <tr>\n",
       "      <th>2025-05-12 00:02:00</th>\n",
       "      <td>145625000.0</td>\n",
       "      <td>145700000.0</td>\n",
       "      <td>145620000.0</td>\n",
       "      <td>145623000.0</td>\n",
       "      <td>0.728360</td>\n",
       "      <td>3480000.0</td>\n",
       "      <td>3482000.0</td>\n",
       "      <td>3479000.0</td>\n",
       "      <td>3482000.0</td>\n",
       "      <td>9.372693</td>\n",
       "      <td>...</td>\n",
       "      <td>17925.759766</td>\n",
       "      <td>17953.833984</td>\n",
       "      <td>17920.0625</td>\n",
       "      <td>17943.357422</td>\n",
       "      <td>641874000.0</td>\n",
       "      <td>5659.149902</td>\n",
       "      <td>5667.169922</td>\n",
       "      <td>5657.399902</td>\n",
       "      <td>5665.669922</td>\n",
       "      <td>360615000.0</td>\n",
       "    </tr>\n",
       "    <tr>\n",
       "      <th>2025-05-12 00:03:00</th>\n",
       "      <td>145695000.0</td>\n",
       "      <td>145700000.0</td>\n",
       "      <td>145624000.0</td>\n",
       "      <td>145693000.0</td>\n",
       "      <td>0.281259</td>\n",
       "      <td>3480000.0</td>\n",
       "      <td>3485000.0</td>\n",
       "      <td>3479000.0</td>\n",
       "      <td>3485000.0</td>\n",
       "      <td>12.685174</td>\n",
       "      <td>...</td>\n",
       "      <td>17925.759766</td>\n",
       "      <td>17953.833984</td>\n",
       "      <td>17920.0625</td>\n",
       "      <td>17943.357422</td>\n",
       "      <td>641874000.0</td>\n",
       "      <td>5659.149902</td>\n",
       "      <td>5667.169922</td>\n",
       "      <td>5657.399902</td>\n",
       "      <td>5665.669922</td>\n",
       "      <td>360615000.0</td>\n",
       "    </tr>\n",
       "    <tr>\n",
       "      <th>2025-05-12 00:04:00</th>\n",
       "      <td>145693000.0</td>\n",
       "      <td>145755000.0</td>\n",
       "      <td>145693000.0</td>\n",
       "      <td>145755000.0</td>\n",
       "      <td>0.861492</td>\n",
       "      <td>3485000.0</td>\n",
       "      <td>3493000.0</td>\n",
       "      <td>3485000.0</td>\n",
       "      <td>3491000.0</td>\n",
       "      <td>29.567548</td>\n",
       "      <td>...</td>\n",
       "      <td>17925.759766</td>\n",
       "      <td>17953.833984</td>\n",
       "      <td>17920.0625</td>\n",
       "      <td>17943.357422</td>\n",
       "      <td>641874000.0</td>\n",
       "      <td>5659.149902</td>\n",
       "      <td>5667.169922</td>\n",
       "      <td>5657.399902</td>\n",
       "      <td>5665.669922</td>\n",
       "      <td>360615000.0</td>\n",
       "    </tr>\n",
       "  </tbody>\n",
       "</table>\n",
       "<p>5 rows × 35 columns</p>\n",
       "</div>"
      ],
      "text/plain": [
       "                        btc_open     btc_high      btc_low    btc_close  \\\n",
       "Datetime                                                                  \n",
       "2025-05-12 00:00:00  145676000.0  145677000.0  145626000.0  145677000.0   \n",
       "2025-05-12 00:01:00  145677000.0  145700000.0  145623000.0  145623000.0   \n",
       "2025-05-12 00:02:00  145625000.0  145700000.0  145620000.0  145623000.0   \n",
       "2025-05-12 00:03:00  145695000.0  145700000.0  145624000.0  145693000.0   \n",
       "2025-05-12 00:04:00  145693000.0  145755000.0  145693000.0  145755000.0   \n",
       "\n",
       "                     btc_volume   eth_open   eth_high    eth_low  eth_close  \\\n",
       "Datetime                                                                      \n",
       "2025-05-12 00:00:00    0.374630  3477000.0  3479000.0  3474000.0  3478000.0   \n",
       "2025-05-12 00:01:00    0.188528  3478000.0  3482000.0  3478000.0  3478000.0   \n",
       "2025-05-12 00:02:00    0.728360  3480000.0  3482000.0  3479000.0  3482000.0   \n",
       "2025-05-12 00:03:00    0.281259  3480000.0  3485000.0  3479000.0  3485000.0   \n",
       "2025-05-12 00:04:00    0.861492  3485000.0  3493000.0  3485000.0  3491000.0   \n",
       "\n",
       "                     eth_volume  ...  nasdaq_close   nasdaq_high  nasdaq_low  \\\n",
       "Datetime                         ...                                           \n",
       "2025-05-12 00:00:00    6.891271  ...  17925.759766  17953.833984  17920.0625   \n",
       "2025-05-12 00:01:00    9.746652  ...  17925.759766  17953.833984  17920.0625   \n",
       "2025-05-12 00:02:00    9.372693  ...  17925.759766  17953.833984  17920.0625   \n",
       "2025-05-12 00:03:00   12.685174  ...  17925.759766  17953.833984  17920.0625   \n",
       "2025-05-12 00:04:00   29.567548  ...  17925.759766  17953.833984  17920.0625   \n",
       "\n",
       "                      nasdaq_open  nasdaq_volume  sp500_close   sp500_high  \\\n",
       "Datetime                                                                     \n",
       "2025-05-12 00:00:00  17943.357422    641874000.0  5659.149902  5667.169922   \n",
       "2025-05-12 00:01:00  17943.357422    641874000.0  5659.149902  5667.169922   \n",
       "2025-05-12 00:02:00  17943.357422    641874000.0  5659.149902  5667.169922   \n",
       "2025-05-12 00:03:00  17943.357422    641874000.0  5659.149902  5667.169922   \n",
       "2025-05-12 00:04:00  17943.357422    641874000.0  5659.149902  5667.169922   \n",
       "\n",
       "                       sp500_low   sp500_open  sp500_volume  \n",
       "Datetime                                                     \n",
       "2025-05-12 00:00:00  5657.399902  5665.669922   360615000.0  \n",
       "2025-05-12 00:01:00  5657.399902  5665.669922   360615000.0  \n",
       "2025-05-12 00:02:00  5657.399902  5665.669922   360615000.0  \n",
       "2025-05-12 00:03:00  5657.399902  5665.669922   360615000.0  \n",
       "2025-05-12 00:04:00  5657.399902  5665.669922   360615000.0  \n",
       "\n",
       "[5 rows x 35 columns]"
      ]
     },
     "execution_count": 19,
     "metadata": {},
     "output_type": "execute_result"
    }
   ],
   "source": [
    "print(df.columns)\n",
    "print(df.index.min(), df.index.max())\n",
    "print(df.shape)\n",
    "\n",
    "df.head()"
   ]
  },
  {
   "cell_type": "code",
   "execution_count": 20,
   "id": "d55d15fd",
   "metadata": {},
   "outputs": [
    {
     "name": "stdout",
     "output_type": "stream",
     "text": [
      "btc_close        1.000000\n",
      "btc_high         0.999975\n",
      "btc_low          0.999972\n",
      "btc_open         0.999958\n",
      "xrp_low          0.910827\n",
      "xrp_close        0.910781\n",
      "xrp_open         0.910762\n",
      "xrp_high         0.910711\n",
      "eth_low          0.902794\n",
      "eth_close        0.902763\n",
      "eth_open         0.902737\n",
      "eth_high         0.902716\n",
      "nasdaq_open      0.745701\n",
      "nasdaq_high      0.743802\n",
      "nasdaq_low       0.740012\n",
      "nasdaq_close     0.738576\n",
      "sp500_open       0.726673\n",
      "sp500_high       0.722996\n",
      "sp500_low        0.718046\n",
      "sp500_close      0.715791\n",
      "gold_close       0.286439\n",
      "gold_low         0.285633\n",
      "gold_high        0.281830\n",
      "gold_open        0.279277\n",
      "xrp_volume       0.212137\n",
      "eth_volume       0.112980\n",
      "btc_volume       0.071852\n",
      "nasdaq_volume    0.024340\n",
      "sp500_volume     0.015669\n",
      "gold_volume     -0.010679\n",
      "dollar_close    -0.179577\n",
      "dollar_high     -0.180180\n",
      "dollar_open     -0.180644\n",
      "dollar_low      -0.182010\n",
      "dollar_volume         NaN\n",
      "Name: btc_close, dtype: float64\n"
     ]
    }
   ],
   "source": [
    "import seaborn as sns\n",
    "\n",
    "# 상관관계 행렬 계산\n",
    "corr_matrix = df.corr()\n",
    "\n",
    "# btc_close와의 상관관계만 확인\n",
    "print(corr_matrix['btc_close'].sort_values(ascending=False))"
   ]
  },
  {
   "cell_type": "code",
   "execution_count": 21,
   "id": "c56f3596",
   "metadata": {},
   "outputs": [
    {
     "data": {
      "text/html": [
       "<div>\n",
       "<style scoped>\n",
       "    .dataframe tbody tr th:only-of-type {\n",
       "        vertical-align: middle;\n",
       "    }\n",
       "\n",
       "    .dataframe tbody tr th {\n",
       "        vertical-align: top;\n",
       "    }\n",
       "\n",
       "    .dataframe thead th {\n",
       "        text-align: right;\n",
       "    }\n",
       "</style>\n",
       "<table border=\"1\" class=\"dataframe\">\n",
       "  <thead>\n",
       "    <tr style=\"text-align: right;\">\n",
       "      <th></th>\n",
       "      <th>btc_close</th>\n",
       "      <th>eth_close</th>\n",
       "      <th>xrp_close</th>\n",
       "      <th>dollar_close</th>\n",
       "      <th>gold_close</th>\n",
       "      <th>nasdaq_close</th>\n",
       "      <th>sp500_close</th>\n",
       "    </tr>\n",
       "    <tr>\n",
       "      <th>Datetime</th>\n",
       "      <th></th>\n",
       "      <th></th>\n",
       "      <th></th>\n",
       "      <th></th>\n",
       "      <th></th>\n",
       "      <th></th>\n",
       "      <th></th>\n",
       "    </tr>\n",
       "  </thead>\n",
       "  <tbody>\n",
       "    <tr>\n",
       "      <th>2025-05-12 00:00:00</th>\n",
       "      <td>145677000.0</td>\n",
       "      <td>3478000.0</td>\n",
       "      <td>3301.0</td>\n",
       "      <td>100.424004</td>\n",
       "      <td>3329.100098</td>\n",
       "      <td>17925.759766</td>\n",
       "      <td>5659.149902</td>\n",
       "    </tr>\n",
       "    <tr>\n",
       "      <th>2025-05-12 00:01:00</th>\n",
       "      <td>145623000.0</td>\n",
       "      <td>3478000.0</td>\n",
       "      <td>3301.0</td>\n",
       "      <td>100.424004</td>\n",
       "      <td>3329.100098</td>\n",
       "      <td>17925.759766</td>\n",
       "      <td>5659.149902</td>\n",
       "    </tr>\n",
       "    <tr>\n",
       "      <th>2025-05-12 00:02:00</th>\n",
       "      <td>145623000.0</td>\n",
       "      <td>3482000.0</td>\n",
       "      <td>3305.0</td>\n",
       "      <td>100.424004</td>\n",
       "      <td>3329.100098</td>\n",
       "      <td>17925.759766</td>\n",
       "      <td>5659.149902</td>\n",
       "    </tr>\n",
       "    <tr>\n",
       "      <th>2025-05-12 00:03:00</th>\n",
       "      <td>145693000.0</td>\n",
       "      <td>3485000.0</td>\n",
       "      <td>3304.0</td>\n",
       "      <td>100.424004</td>\n",
       "      <td>3329.100098</td>\n",
       "      <td>17925.759766</td>\n",
       "      <td>5659.149902</td>\n",
       "    </tr>\n",
       "    <tr>\n",
       "      <th>2025-05-12 00:04:00</th>\n",
       "      <td>145755000.0</td>\n",
       "      <td>3491000.0</td>\n",
       "      <td>3310.0</td>\n",
       "      <td>100.424004</td>\n",
       "      <td>3329.100098</td>\n",
       "      <td>17925.759766</td>\n",
       "      <td>5659.149902</td>\n",
       "    </tr>\n",
       "  </tbody>\n",
       "</table>\n",
       "</div>"
      ],
      "text/plain": [
       "                       btc_close  eth_close  xrp_close  dollar_close  \\\n",
       "Datetime                                                               \n",
       "2025-05-12 00:00:00  145677000.0  3478000.0     3301.0    100.424004   \n",
       "2025-05-12 00:01:00  145623000.0  3478000.0     3301.0    100.424004   \n",
       "2025-05-12 00:02:00  145623000.0  3482000.0     3305.0    100.424004   \n",
       "2025-05-12 00:03:00  145693000.0  3485000.0     3304.0    100.424004   \n",
       "2025-05-12 00:04:00  145755000.0  3491000.0     3310.0    100.424004   \n",
       "\n",
       "                      gold_close  nasdaq_close  sp500_close  \n",
       "Datetime                                                     \n",
       "2025-05-12 00:00:00  3329.100098  17925.759766  5659.149902  \n",
       "2025-05-12 00:01:00  3329.100098  17925.759766  5659.149902  \n",
       "2025-05-12 00:02:00  3329.100098  17925.759766  5659.149902  \n",
       "2025-05-12 00:03:00  3329.100098  17925.759766  5659.149902  \n",
       "2025-05-12 00:04:00  3329.100098  17925.759766  5659.149902  "
      ]
     },
     "execution_count": 21,
     "metadata": {},
     "output_type": "execute_result"
    }
   ],
   "source": [
    "# 각 자산의 종가를 기준으로 예측\n",
    "features = ['btc_close', 'eth_close', 'xrp_close', 'dollar_close', 'gold_close', 'nasdaq_close', 'sp500_close']\n",
    "\n",
    "df = df[features]\n",
    "df.head()"
   ]
  },
  {
   "cell_type": "code",
   "execution_count": 23,
   "id": "708d51c5",
   "metadata": {},
   "outputs": [
    {
     "name": "stdout",
     "output_type": "stream",
     "text": [
      "정규화 완료. 데이터의 처음 5개:\n",
      "[[0.28539021 0.17828371 0.27351916 0.73004474 0.52102639 0.\n",
      "  0.        ]\n",
      " [0.28356188 0.17828371 0.27351916 0.73004474 0.52102639 0.\n",
      "  0.        ]\n",
      " [0.28356188 0.17968476 0.27526132 0.73004474 0.52102639 0.\n",
      "  0.        ]\n",
      " [0.28593195 0.18073555 0.27482578 0.73004474 0.52102639 0.\n",
      "  0.        ]\n",
      " [0.28803115 0.18283713 0.27743902 0.73004474 0.52102639 0.\n",
      "  0.        ]]\n"
     ]
    }
   ],
   "source": [
    "# 정규화 - MinMaxScaler\n",
    "scaler = MinMaxScaler(feature_range=(0, 1))\n",
    "scaled_data = scaler.fit_transform(df)\n",
    "\n",
    "print(\"정규화 완료. 데이터의 처음 5개:\")\n",
    "print(scaled_data[:5])"
   ]
  },
  {
   "cell_type": "code",
   "execution_count": null,
   "id": "72f963fd",
   "metadata": {},
   "outputs": [],
   "source": [
    "# import numpy as np\n",
    "# from tensorflow.keras.utils import Sequence\n",
    "\n",
    "# class DataGenerator(Sequence):\n",
    "#     def __init__(self, data, seq_length, batch_size):\n",
    "#         self.data = data\n",
    "#         self.seq_length = seq_length\n",
    "#         self.batch_size = batch_size\n",
    "\n",
    "#     def __len__(self):\n",
    "#         # 전체 데이터에서 생성 가능한 배치의 총 개수\n",
    "#         return int(np.floor(len(self.data) - self.seq_length) / self.batch_size)\n",
    "\n",
    "#     def __getitem__(self, idx):\n",
    "#         # 주어진 인덱스(idx)에 해당하는 배치 1개를 생성\n",
    "#         batch_start = idx * self.batch_size\n",
    "#         batch_end = batch_start + self.batch_size\n",
    "\n",
    "#         batch_xs = []\n",
    "#         batch_ys = []\n",
    "\n",
    "#         for i in range(batch_start, batch_end):\n",
    "#             # 시퀀스 데이터와 타겟 데이터 생성\n",
    "#             x = self.data[i : i + self.seq_length]\n",
    "#             y = self.data[i + self.seq_length, 0] # 타겟은 btc_close\n",
    "#             batch_xs.append(x)\n",
    "#             batch_ys.append(y)\n",
    "        \n",
    "#         return np.array(batch_xs), np.array(batch_ys)\n",
    "\n",
    "# # 파라미터 설정\n",
    "# SEQUENCE_LENGTH = 1440\n",
    "# BATCH_SIZE = 32 # 한 번에 32개의 시퀀스를 학습\n",
    "\n",
    "# # 훈련/검증 데이터 분리 (제너레이터에 전달할 데이터)\n",
    "# train_split = int(len(scaled_data) * 0.8)\n",
    "# val_split = int(len(scaled_data) * 0.9)\n",
    "\n",
    "# train_data = scaled_data[:train_split]\n",
    "# val_data = scaled_data[train_split:val_split]\n",
    "# test_data = scaled_data[val_split:]\n",
    "\n",
    "\n",
    "# # 제너레이터 생성\n",
    "# train_generator = DataGenerator(train_data, SEQUENCE_LENGTH, BATCH_SIZE)\n",
    "# val_generator = DataGenerator(val_data, SEQUENCE_LENGTH, BATCH_SIZE)\n",
    "# # test_generator = DataGenerator(test_data, SEQUENCE_LENGTH, BATCH_SIZE) # 필요시\n",
    "\n",
    "# # 모델 훈련 시 제너레이터를 사용\n",
    "# model.fit(train_generator, validation_data=val_generator, epochs=50)"
   ]
  },
  {
   "cell_type": "code",
   "execution_count": 24,
   "id": "962945ec",
   "metadata": {},
   "outputs": [
    {
     "name": "stdout",
     "output_type": "stream",
     "text": [
      "X 데이터 형태: (129451, 120, 7)\n",
      "y 데이터 형태: (129451,)\n"
     ]
    }
   ],
   "source": [
    "# 시퀀스 데이터 생성\n",
    "def create_sequences_with_horizon(data, seq_length, future_horizon):\n",
    "    xs = []\n",
    "    ys = []\n",
    "    for i in range(len(data) - seq_length - future_horizon + 1):\n",
    "        x = data[i:i + seq_length]  # 입력(X)은 seq_length 만큼의 모든 변수 데이터\n",
    "        y = data[i + seq_length + future_horizon - 1, 0] # 정답(y)은 seq_length + future_horizon - 1 번째의 첫 번째 변수(btc_close)\n",
    "        xs.append(x)\n",
    "        ys.append(y)\n",
    "    return np.array(xs), np.array(ys)\n",
    "\n",
    "# 시퀀스 길이 설정\n",
    "SEQUENCE_LENGTH = 120 # 2시간\n",
    "FUTURE_HORIZON = 30   # 1시간\n",
    "X, y = create_sequences_with_horizon(scaled_data, SEQUENCE_LENGTH, FUTURE_HORIZON)\n",
    "\n",
    "print(f\"X 데이터 형태: {X.shape}\") # (샘플 수, 시퀀스 길이, feature 수)\n",
    "print(f\"y 데이터 형태: {y.shape}\") # (샘플 수, feature 수)"
   ]
  },
  {
   "cell_type": "code",
   "execution_count": 25,
   "id": "7b7bbcfd",
   "metadata": {},
   "outputs": [
    {
     "name": "stdout",
     "output_type": "stream",
     "text": [
      "훈련 데이터: (103560, 120, 7), (103560,)\n",
      "검증 데이터: (12945, 120, 7), (12945,)\n",
      "테스트 데이터: (12946, 120, 7), (12946,)\n"
     ]
    }
   ],
   "source": [
    "# 훈련, 검증, 테스트 데이터 분리\n",
    "train_size = int(len(X) * 0.8)\n",
    "val_size = int(len(X) * 0.1)\n",
    "test_size = len(X) - train_size - val_size\n",
    "\n",
    "X_train, X_val, X_test = X[:train_size], X[train_size:train_size+val_size], X[train_size+val_size:]\n",
    "y_train, y_val, y_test = y[:train_size], y[train_size:train_size+val_size], y[train_size+val_size:]\n",
    "\n",
    "print(f\"훈련 데이터: {X_train.shape}, {y_train.shape}\")\n",
    "print(f\"검증 데이터: {X_val.shape}, {y_val.shape}\")\n",
    "print(f\"테스트 데이터: {X_test.shape}, {y_test.shape}\")"
   ]
  },
  {
   "cell_type": "code",
   "execution_count": 28,
   "id": "30681503",
   "metadata": {},
   "outputs": [
    {
     "data": {
      "text/html": [
       "<pre style=\"white-space:pre;overflow-x:auto;line-height:normal;font-family:Menlo,'DejaVu Sans Mono',consolas,'Courier New',monospace\"><span style=\"font-weight: bold\">Model: \"sequential_1\"</span>\n",
       "</pre>\n"
      ],
      "text/plain": [
       "\u001b[1mModel: \"sequential_1\"\u001b[0m\n"
      ]
     },
     "metadata": {},
     "output_type": "display_data"
    },
    {
     "data": {
      "text/html": [
       "<pre style=\"white-space:pre;overflow-x:auto;line-height:normal;font-family:Menlo,'DejaVu Sans Mono',consolas,'Courier New',monospace\">┏━━━━━━━━━━━━━━━━━━━━━━━━━━━━━━━━━┳━━━━━━━━━━━━━━━━━━━━━━━━┳━━━━━━━━━━━━━━━┓\n",
       "┃<span style=\"font-weight: bold\"> Layer (type)                    </span>┃<span style=\"font-weight: bold\"> Output Shape           </span>┃<span style=\"font-weight: bold\">       Param # </span>┃\n",
       "┡━━━━━━━━━━━━━━━━━━━━━━━━━━━━━━━━━╇━━━━━━━━━━━━━━━━━━━━━━━━╇━━━━━━━━━━━━━━━┩\n",
       "│ bidirectional_2 (<span style=\"color: #0087ff; text-decoration-color: #0087ff\">Bidirectional</span>) │ (<span style=\"color: #00d7ff; text-decoration-color: #00d7ff\">None</span>, <span style=\"color: #00af00; text-decoration-color: #00af00\">120</span>, <span style=\"color: #00af00; text-decoration-color: #00af00\">100</span>)       │        <span style=\"color: #00af00; text-decoration-color: #00af00\">23,200</span> │\n",
       "├─────────────────────────────────┼────────────────────────┼───────────────┤\n",
       "│ dropout_2 (<span style=\"color: #0087ff; text-decoration-color: #0087ff\">Dropout</span>)             │ (<span style=\"color: #00d7ff; text-decoration-color: #00d7ff\">None</span>, <span style=\"color: #00af00; text-decoration-color: #00af00\">120</span>, <span style=\"color: #00af00; text-decoration-color: #00af00\">100</span>)       │             <span style=\"color: #00af00; text-decoration-color: #00af00\">0</span> │\n",
       "├─────────────────────────────────┼────────────────────────┼───────────────┤\n",
       "│ bidirectional_3 (<span style=\"color: #0087ff; text-decoration-color: #0087ff\">Bidirectional</span>) │ (<span style=\"color: #00d7ff; text-decoration-color: #00d7ff\">None</span>, <span style=\"color: #00af00; text-decoration-color: #00af00\">100</span>)            │        <span style=\"color: #00af00; text-decoration-color: #00af00\">60,400</span> │\n",
       "├─────────────────────────────────┼────────────────────────┼───────────────┤\n",
       "│ dropout_3 (<span style=\"color: #0087ff; text-decoration-color: #0087ff\">Dropout</span>)             │ (<span style=\"color: #00d7ff; text-decoration-color: #00d7ff\">None</span>, <span style=\"color: #00af00; text-decoration-color: #00af00\">100</span>)            │             <span style=\"color: #00af00; text-decoration-color: #00af00\">0</span> │\n",
       "├─────────────────────────────────┼────────────────────────┼───────────────┤\n",
       "│ dense_2 (<span style=\"color: #0087ff; text-decoration-color: #0087ff\">Dense</span>)                 │ (<span style=\"color: #00d7ff; text-decoration-color: #00d7ff\">None</span>, <span style=\"color: #00af00; text-decoration-color: #00af00\">25</span>)             │         <span style=\"color: #00af00; text-decoration-color: #00af00\">2,525</span> │\n",
       "├─────────────────────────────────┼────────────────────────┼───────────────┤\n",
       "│ dense_3 (<span style=\"color: #0087ff; text-decoration-color: #0087ff\">Dense</span>)                 │ (<span style=\"color: #00d7ff; text-decoration-color: #00d7ff\">None</span>, <span style=\"color: #00af00; text-decoration-color: #00af00\">1</span>)              │            <span style=\"color: #00af00; text-decoration-color: #00af00\">26</span> │\n",
       "└─────────────────────────────────┴────────────────────────┴───────────────┘\n",
       "</pre>\n"
      ],
      "text/plain": [
       "┏━━━━━━━━━━━━━━━━━━━━━━━━━━━━━━━━━┳━━━━━━━━━━━━━━━━━━━━━━━━┳━━━━━━━━━━━━━━━┓\n",
       "┃\u001b[1m \u001b[0m\u001b[1mLayer (type)                   \u001b[0m\u001b[1m \u001b[0m┃\u001b[1m \u001b[0m\u001b[1mOutput Shape          \u001b[0m\u001b[1m \u001b[0m┃\u001b[1m \u001b[0m\u001b[1m      Param #\u001b[0m\u001b[1m \u001b[0m┃\n",
       "┡━━━━━━━━━━━━━━━━━━━━━━━━━━━━━━━━━╇━━━━━━━━━━━━━━━━━━━━━━━━╇━━━━━━━━━━━━━━━┩\n",
       "│ bidirectional_2 (\u001b[38;5;33mBidirectional\u001b[0m) │ (\u001b[38;5;45mNone\u001b[0m, \u001b[38;5;34m120\u001b[0m, \u001b[38;5;34m100\u001b[0m)       │        \u001b[38;5;34m23,200\u001b[0m │\n",
       "├─────────────────────────────────┼────────────────────────┼───────────────┤\n",
       "│ dropout_2 (\u001b[38;5;33mDropout\u001b[0m)             │ (\u001b[38;5;45mNone\u001b[0m, \u001b[38;5;34m120\u001b[0m, \u001b[38;5;34m100\u001b[0m)       │             \u001b[38;5;34m0\u001b[0m │\n",
       "├─────────────────────────────────┼────────────────────────┼───────────────┤\n",
       "│ bidirectional_3 (\u001b[38;5;33mBidirectional\u001b[0m) │ (\u001b[38;5;45mNone\u001b[0m, \u001b[38;5;34m100\u001b[0m)            │        \u001b[38;5;34m60,400\u001b[0m │\n",
       "├─────────────────────────────────┼────────────────────────┼───────────────┤\n",
       "│ dropout_3 (\u001b[38;5;33mDropout\u001b[0m)             │ (\u001b[38;5;45mNone\u001b[0m, \u001b[38;5;34m100\u001b[0m)            │             \u001b[38;5;34m0\u001b[0m │\n",
       "├─────────────────────────────────┼────────────────────────┼───────────────┤\n",
       "│ dense_2 (\u001b[38;5;33mDense\u001b[0m)                 │ (\u001b[38;5;45mNone\u001b[0m, \u001b[38;5;34m25\u001b[0m)             │         \u001b[38;5;34m2,525\u001b[0m │\n",
       "├─────────────────────────────────┼────────────────────────┼───────────────┤\n",
       "│ dense_3 (\u001b[38;5;33mDense\u001b[0m)                 │ (\u001b[38;5;45mNone\u001b[0m, \u001b[38;5;34m1\u001b[0m)              │            \u001b[38;5;34m26\u001b[0m │\n",
       "└─────────────────────────────────┴────────────────────────┴───────────────┘\n"
      ]
     },
     "metadata": {},
     "output_type": "display_data"
    },
    {
     "data": {
      "text/html": [
       "<pre style=\"white-space:pre;overflow-x:auto;line-height:normal;font-family:Menlo,'DejaVu Sans Mono',consolas,'Courier New',monospace\"><span style=\"font-weight: bold\"> Total params: </span><span style=\"color: #00af00; text-decoration-color: #00af00\">86,151</span> (336.53 KB)\n",
       "</pre>\n"
      ],
      "text/plain": [
       "\u001b[1m Total params: \u001b[0m\u001b[38;5;34m86,151\u001b[0m (336.53 KB)\n"
      ]
     },
     "metadata": {},
     "output_type": "display_data"
    },
    {
     "data": {
      "text/html": [
       "<pre style=\"white-space:pre;overflow-x:auto;line-height:normal;font-family:Menlo,'DejaVu Sans Mono',consolas,'Courier New',monospace\"><span style=\"font-weight: bold\"> Trainable params: </span><span style=\"color: #00af00; text-decoration-color: #00af00\">86,151</span> (336.53 KB)\n",
       "</pre>\n"
      ],
      "text/plain": [
       "\u001b[1m Trainable params: \u001b[0m\u001b[38;5;34m86,151\u001b[0m (336.53 KB)\n"
      ]
     },
     "metadata": {},
     "output_type": "display_data"
    },
    {
     "data": {
      "text/html": [
       "<pre style=\"white-space:pre;overflow-x:auto;line-height:normal;font-family:Menlo,'DejaVu Sans Mono',consolas,'Courier New',monospace\"><span style=\"font-weight: bold\"> Non-trainable params: </span><span style=\"color: #00af00; text-decoration-color: #00af00\">0</span> (0.00 B)\n",
       "</pre>\n"
      ],
      "text/plain": [
       "\u001b[1m Non-trainable params: \u001b[0m\u001b[38;5;34m0\u001b[0m (0.00 B)\n"
      ]
     },
     "metadata": {},
     "output_type": "display_data"
    }
   ],
   "source": [
    "# 사용된 변수의 개수\n",
    "num_features = X.shape[2]\n",
    "\n",
    "# Bidirectional LSTM 모델\n",
    "model = Sequential([\n",
    "    Input(shape=(SEQUENCE_LENGTH, num_features)),\n",
    "    Bidirectional(LSTM(units=50, return_sequences=True)),\n",
    "    Dropout(0.2),\n",
    "    Bidirectional(LSTM(units=50, return_sequences=False)),\n",
    "    Dropout(0.2),\n",
    "    Dense(units=25),\n",
    "    Dense(units=1)\n",
    "])\n",
    "\n",
    "model.summary()"
   ]
  },
  {
   "cell_type": "code",
   "execution_count": null,
   "id": "b770c8fc",
   "metadata": {},
   "outputs": [
    {
     "name": "stdout",
     "output_type": "stream",
     "text": [
      "Epoch 1/100\n",
      "\u001b[1m3237/3237\u001b[0m \u001b[32m━━━━━━━━━━━━━━━━━━━━\u001b[0m\u001b[37m\u001b[0m \u001b[1m0s\u001b[0m 52ms/step - loss: 0.0040"
     ]
    },
    {
     "name": "stderr",
     "output_type": "stream",
     "text": [
      "WARNING:absl:You are saving your model as an HDF5 file via `model.save()` or `keras.saving.save_model(model)`. This file format is considered legacy. We recommend using instead the native Keras format, e.g. `model.save('my_model.keras')` or `keras.saving.save_model(model, 'my_model.keras')`. \n"
     ]
    },
    {
     "name": "stdout",
     "output_type": "stream",
     "text": [
      "\u001b[1m3237/3237\u001b[0m \u001b[32m━━━━━━━━━━━━━━━━━━━━\u001b[0m\u001b[37m\u001b[0m \u001b[1m181s\u001b[0m 55ms/step - loss: 0.0012 - val_loss: 3.7470e-04\n",
      "Epoch 2/100\n",
      "\u001b[1m3237/3237\u001b[0m \u001b[32m━━━━━━━━━━━━━━━━━━━━\u001b[0m\u001b[37m\u001b[0m \u001b[1m203s\u001b[0m 63ms/step - loss: 3.4721e-04 - val_loss: 0.0017\n",
      "Epoch 3/100\n",
      "\u001b[1m3237/3237\u001b[0m \u001b[32m━━━━━━━━━━━━━━━━━━━━\u001b[0m\u001b[37m\u001b[0m \u001b[1m0s\u001b[0m 59ms/step - loss: 3.3517e-04"
     ]
    },
    {
     "name": "stderr",
     "output_type": "stream",
     "text": [
      "WARNING:absl:You are saving your model as an HDF5 file via `model.save()` or `keras.saving.save_model(model)`. This file format is considered legacy. We recommend using instead the native Keras format, e.g. `model.save('my_model.keras')` or `keras.saving.save_model(model, 'my_model.keras')`. \n"
     ]
    },
    {
     "name": "stdout",
     "output_type": "stream",
     "text": [
      "\u001b[1m3237/3237\u001b[0m \u001b[32m━━━━━━━━━━━━━━━━━━━━\u001b[0m\u001b[37m\u001b[0m \u001b[1m199s\u001b[0m 62ms/step - loss: 3.2272e-04 - val_loss: 9.3138e-05\n",
      "Epoch 4/100\n",
      "\u001b[1m3237/3237\u001b[0m \u001b[32m━━━━━━━━━━━━━━━━━━━━\u001b[0m\u001b[37m\u001b[0m \u001b[1m199s\u001b[0m 61ms/step - loss: 3.0298e-04 - val_loss: 1.5646e-04\n",
      "Epoch 5/100\n",
      "\u001b[1m3237/3237\u001b[0m \u001b[32m━━━━━━━━━━━━━━━━━━━━\u001b[0m\u001b[37m\u001b[0m \u001b[1m159s\u001b[0m 49ms/step - loss: 2.9988e-04 - val_loss: 7.4610e-04\n",
      "Epoch 6/100\n",
      "\u001b[1m3237/3237\u001b[0m \u001b[32m━━━━━━━━━━━━━━━━━━━━\u001b[0m\u001b[37m\u001b[0m \u001b[1m131s\u001b[0m 40ms/step - loss: 2.9157e-04 - val_loss: 9.8050e-05\n",
      "Epoch 7/100\n",
      "\u001b[1m3237/3237\u001b[0m \u001b[32m━━━━━━━━━━━━━━━━━━━━\u001b[0m\u001b[37m\u001b[0m \u001b[1m161s\u001b[0m 50ms/step - loss: 2.7707e-04 - val_loss: 7.0473e-04\n",
      "Epoch 8/100\n",
      "\u001b[1m3237/3237\u001b[0m \u001b[32m━━━━━━━━━━━━━━━━━━━━\u001b[0m\u001b[37m\u001b[0m \u001b[1m189s\u001b[0m 59ms/step - loss: 2.6845e-04 - val_loss: 1.9438e-04\n",
      "Epoch 9/100\n",
      "\u001b[1m3237/3237\u001b[0m \u001b[32m━━━━━━━━━━━━━━━━━━━━\u001b[0m\u001b[37m\u001b[0m \u001b[1m197s\u001b[0m 61ms/step - loss: 2.6333e-04 - val_loss: 2.5077e-04\n",
      "Epoch 10/100\n",
      "\u001b[1m3237/3237\u001b[0m \u001b[32m━━━━━━━━━━━━━━━━━━━━\u001b[0m\u001b[37m\u001b[0m \u001b[1m0s\u001b[0m 56ms/step - loss: 2.6979e-04"
     ]
    },
    {
     "name": "stderr",
     "output_type": "stream",
     "text": [
      "WARNING:absl:You are saving your model as an HDF5 file via `model.save()` or `keras.saving.save_model(model)`. This file format is considered legacy. We recommend using instead the native Keras format, e.g. `model.save('my_model.keras')` or `keras.saving.save_model(model, 'my_model.keras')`. \n"
     ]
    },
    {
     "name": "stdout",
     "output_type": "stream",
     "text": [
      "\u001b[1m3237/3237\u001b[0m \u001b[32m━━━━━━━━━━━━━━━━━━━━\u001b[0m\u001b[37m\u001b[0m \u001b[1m190s\u001b[0m 59ms/step - loss: 2.6386e-04 - val_loss: 5.6728e-05\n",
      "Epoch 11/100\n",
      "\u001b[1m3237/3237\u001b[0m \u001b[32m━━━━━━━━━━━━━━━━━━━━\u001b[0m\u001b[37m\u001b[0m \u001b[1m188s\u001b[0m 58ms/step - loss: 2.5340e-04 - val_loss: 9.3547e-05\n",
      "Epoch 12/100\n",
      "\u001b[1m3237/3237\u001b[0m \u001b[32m━━━━━━━━━━━━━━━━━━━━\u001b[0m\u001b[37m\u001b[0m \u001b[1m193s\u001b[0m 60ms/step - loss: 2.5697e-04 - val_loss: 2.6744e-04\n",
      "Epoch 13/100\n",
      "\u001b[1m3237/3237\u001b[0m \u001b[32m━━━━━━━━━━━━━━━━━━━━\u001b[0m\u001b[37m\u001b[0m \u001b[1m210s\u001b[0m 65ms/step - loss: 2.4872e-04 - val_loss: 5.7529e-05\n",
      "Epoch 14/100\n",
      "\u001b[1m3237/3237\u001b[0m \u001b[32m━━━━━━━━━━━━━━━━━━━━\u001b[0m\u001b[37m\u001b[0m \u001b[1m188s\u001b[0m 58ms/step - loss: 2.5037e-04 - val_loss: 1.4897e-04\n",
      "Epoch 15/100\n",
      "\u001b[1m3237/3237\u001b[0m \u001b[32m━━━━━━━━━━━━━━━━━━━━\u001b[0m\u001b[37m\u001b[0m \u001b[1m192s\u001b[0m 59ms/step - loss: 2.4564e-04 - val_loss: 1.3490e-04\n",
      "Epoch 16/100\n",
      "\u001b[1m3237/3237\u001b[0m \u001b[32m━━━━━━━━━━━━━━━━━━━━\u001b[0m\u001b[37m\u001b[0m \u001b[1m195s\u001b[0m 60ms/step - loss: 2.4016e-04 - val_loss: 2.4722e-04\n",
      "Epoch 17/100\n",
      "\u001b[1m3237/3237\u001b[0m \u001b[32m━━━━━━━━━━━━━━━━━━━━\u001b[0m\u001b[37m\u001b[0m \u001b[1m199s\u001b[0m 61ms/step - loss: 2.4051e-04 - val_loss: 1.9878e-04\n",
      "Epoch 18/100\n",
      "\u001b[1m3237/3237\u001b[0m \u001b[32m━━━━━━━━━━━━━━━━━━━━\u001b[0m\u001b[37m\u001b[0m \u001b[1m198s\u001b[0m 61ms/step - loss: 2.3814e-04 - val_loss: 1.1131e-04\n",
      "Epoch 19/100\n",
      "\u001b[1m3237/3237\u001b[0m \u001b[32m━━━━━━━━━━━━━━━━━━━━\u001b[0m\u001b[37m\u001b[0m \u001b[1m199s\u001b[0m 62ms/step - loss: 2.3780e-04 - val_loss: 1.1155e-04\n",
      "Epoch 20/100\n",
      "\u001b[1m3237/3237\u001b[0m \u001b[32m━━━━━━━━━━━━━━━━━━━━\u001b[0m\u001b[37m\u001b[0m \u001b[1m200s\u001b[0m 62ms/step - loss: 2.3595e-04 - val_loss: 6.5139e-04\n",
      "모델 훈련이 완료되었습니다.\n"
     ]
    }
   ],
   "source": [
    "# 모델 컴파일, 훈련\n",
    "model.compile(optimizer='adam', loss='mean_squared_error')\n",
    "\n",
    "# 조기 종료 및 최적 모델 저장 콜백 설정\n",
    "early_stopping = EarlyStopping(monitor='val_loss', patience=10, restore_best_weights=True)\n",
    "model_checkpoint = ModelCheckpoint(f'./lstm/btc_price_model_{FUTURE_HORIZON}.h5', monitor='val_loss', save_best_only=True)\n",
    "\n",
    "# 모델 훈련\n",
    "history = model.fit(\n",
    "    X_train, y_train,\n",
    "    epochs=100, # 최대 100번 반복 학습\n",
    "    batch_size=32,\n",
    "    validation_data=(X_val, y_val),\n",
    "    callbacks=[early_stopping, model_checkpoint],\n",
    "    verbose=1 # 학습 과정 출력\n",
    ")\n",
    "\n",
    "print(\"모델 훈련이 완료되었습니다.\")\n",
    "\n",
    "# Scaler 저장\n",
    "joblib.dump(scaler, './lstm/btc_price_scaler.pkl')"
   ]
  },
  {
   "cell_type": "code",
   "execution_count": null,
   "id": "d26d7c11",
   "metadata": {},
   "outputs": [
    {
     "name": "stderr",
     "output_type": "stream",
     "text": [
      "WARNING:absl:Compiled the loaded model, but the compiled metrics have yet to be built. `model.compile_metrics` will be empty until you train or evaluate the model.\n"
     ]
    },
    {
     "name": "stdout",
     "output_type": "stream",
     "text": [
      "\u001b[1m405/405\u001b[0m \u001b[32m━━━━━━━━━━━━━━━━━━━━\u001b[0m\u001b[37m\u001b[0m \u001b[1m5s\u001b[0m 11ms/step\n",
      "테스트 데이터셋의 최종 RMSE: 175193.05\n"
     ]
    },
    {
     "name": "stderr",
     "output_type": "stream",
     "text": [
      "C:\\Users\\endermaru\\AppData\\Local\\Temp\\ipykernel_40848\\2813001627.py:36: UserWarning: Glyph 44032 (\\N{HANGUL SYLLABLE GA}) missing from font(s) DejaVu Sans.\n",
      "  plt.savefig('btc_prediction_result.png') # 그래프를 이미지 파일로 저장\n",
      "C:\\Users\\endermaru\\AppData\\Local\\Temp\\ipykernel_40848\\2813001627.py:36: UserWarning: Glyph 44201 (\\N{HANGUL SYLLABLE GYEOG}) missing from font(s) DejaVu Sans.\n",
      "  plt.savefig('btc_prediction_result.png') # 그래프를 이미지 파일로 저장\n",
      "C:\\Users\\endermaru\\AppData\\Local\\Temp\\ipykernel_40848\\2813001627.py:36: UserWarning: Glyph 50696 (\\N{HANGUL SYLLABLE YE}) missing from font(s) DejaVu Sans.\n",
      "  plt.savefig('btc_prediction_result.png') # 그래프를 이미지 파일로 저장\n",
      "C:\\Users\\endermaru\\AppData\\Local\\Temp\\ipykernel_40848\\2813001627.py:36: UserWarning: Glyph 52769 (\\N{HANGUL SYLLABLE CEUG}) missing from font(s) DejaVu Sans.\n",
      "  plt.savefig('btc_prediction_result.png') # 그래프를 이미지 파일로 저장\n",
      "C:\\Users\\endermaru\\AppData\\Local\\Temp\\ipykernel_40848\\2813001627.py:36: UserWarning: Glyph 44208 (\\N{HANGUL SYLLABLE GYEOL}) missing from font(s) DejaVu Sans.\n",
      "  plt.savefig('btc_prediction_result.png') # 그래프를 이미지 파일로 저장\n",
      "C:\\Users\\endermaru\\AppData\\Local\\Temp\\ipykernel_40848\\2813001627.py:36: UserWarning: Glyph 44284 (\\N{HANGUL SYLLABLE GWA}) missing from font(s) DejaVu Sans.\n",
      "  plt.savefig('btc_prediction_result.png') # 그래프를 이미지 파일로 저장\n",
      "C:\\Users\\endermaru\\AppData\\Local\\Temp\\ipykernel_40848\\2813001627.py:36: UserWarning: Glyph 49884 (\\N{HANGUL SYLLABLE SI}) missing from font(s) DejaVu Sans.\n",
      "  plt.savefig('btc_prediction_result.png') # 그래프를 이미지 파일로 저장\n",
      "C:\\Users\\endermaru\\AppData\\Local\\Temp\\ipykernel_40848\\2813001627.py:36: UserWarning: Glyph 44036 (\\N{HANGUL SYLLABLE GAN}) missing from font(s) DejaVu Sans.\n",
      "  plt.savefig('btc_prediction_result.png') # 그래프를 이미지 파일로 저장\n",
      "C:\\Users\\endermaru\\AppData\\Local\\Temp\\ipykernel_40848\\2813001627.py:36: UserWarning: Glyph 49892 (\\N{HANGUL SYLLABLE SIL}) missing from font(s) DejaVu Sans.\n",
      "  plt.savefig('btc_prediction_result.png') # 그래프를 이미지 파일로 저장\n",
      "C:\\Users\\endermaru\\AppData\\Local\\Temp\\ipykernel_40848\\2813001627.py:36: UserWarning: Glyph 51228 (\\N{HANGUL SYLLABLE JE}) missing from font(s) DejaVu Sans.\n",
      "  plt.savefig('btc_prediction_result.png') # 그래프를 이미지 파일로 저장\n",
      "d:\\desktop\\wafflestudio\\hasha\\coin\\venv\\Lib\\site-packages\\IPython\\core\\pylabtools.py:170: UserWarning: Glyph 44032 (\\N{HANGUL SYLLABLE GA}) missing from font(s) DejaVu Sans.\n",
      "  fig.canvas.print_figure(bytes_io, **kw)\n",
      "d:\\desktop\\wafflestudio\\hasha\\coin\\venv\\Lib\\site-packages\\IPython\\core\\pylabtools.py:170: UserWarning: Glyph 44201 (\\N{HANGUL SYLLABLE GYEOG}) missing from font(s) DejaVu Sans.\n",
      "  fig.canvas.print_figure(bytes_io, **kw)\n",
      "d:\\desktop\\wafflestudio\\hasha\\coin\\venv\\Lib\\site-packages\\IPython\\core\\pylabtools.py:170: UserWarning: Glyph 50696 (\\N{HANGUL SYLLABLE YE}) missing from font(s) DejaVu Sans.\n",
      "  fig.canvas.print_figure(bytes_io, **kw)\n",
      "d:\\desktop\\wafflestudio\\hasha\\coin\\venv\\Lib\\site-packages\\IPython\\core\\pylabtools.py:170: UserWarning: Glyph 52769 (\\N{HANGUL SYLLABLE CEUG}) missing from font(s) DejaVu Sans.\n",
      "  fig.canvas.print_figure(bytes_io, **kw)\n",
      "d:\\desktop\\wafflestudio\\hasha\\coin\\venv\\Lib\\site-packages\\IPython\\core\\pylabtools.py:170: UserWarning: Glyph 44208 (\\N{HANGUL SYLLABLE GYEOL}) missing from font(s) DejaVu Sans.\n",
      "  fig.canvas.print_figure(bytes_io, **kw)\n",
      "d:\\desktop\\wafflestudio\\hasha\\coin\\venv\\Lib\\site-packages\\IPython\\core\\pylabtools.py:170: UserWarning: Glyph 44284 (\\N{HANGUL SYLLABLE GWA}) missing from font(s) DejaVu Sans.\n",
      "  fig.canvas.print_figure(bytes_io, **kw)\n",
      "d:\\desktop\\wafflestudio\\hasha\\coin\\venv\\Lib\\site-packages\\IPython\\core\\pylabtools.py:170: UserWarning: Glyph 49884 (\\N{HANGUL SYLLABLE SI}) missing from font(s) DejaVu Sans.\n",
      "  fig.canvas.print_figure(bytes_io, **kw)\n",
      "d:\\desktop\\wafflestudio\\hasha\\coin\\venv\\Lib\\site-packages\\IPython\\core\\pylabtools.py:170: UserWarning: Glyph 44036 (\\N{HANGUL SYLLABLE GAN}) missing from font(s) DejaVu Sans.\n",
      "  fig.canvas.print_figure(bytes_io, **kw)\n"
     ]
    },
    {
     "name": "stdout",
     "output_type": "stream",
     "text": [
      "\n",
      "예측 결과 그래프가 'btc_prediction_result.png' 파일로 저장되었습니다.\n"
     ]
    },
    {
     "name": "stderr",
     "output_type": "stream",
     "text": [
      "d:\\desktop\\wafflestudio\\hasha\\coin\\venv\\Lib\\site-packages\\IPython\\core\\pylabtools.py:170: UserWarning: Glyph 49892 (\\N{HANGUL SYLLABLE SIL}) missing from font(s) DejaVu Sans.\n",
      "  fig.canvas.print_figure(bytes_io, **kw)\n",
      "d:\\desktop\\wafflestudio\\hasha\\coin\\venv\\Lib\\site-packages\\IPython\\core\\pylabtools.py:170: UserWarning: Glyph 51228 (\\N{HANGUL SYLLABLE JE}) missing from font(s) DejaVu Sans.\n",
      "  fig.canvas.print_figure(bytes_io, **kw)\n"
     ]
    },
    {
     "data": {
      "image/png": "[encoded data removed]",
      "text/plain": [
       "<Figure size 1500x600 with 1 Axes>"
      ]
     },
     "metadata": {},
     "output_type": "display_data"
    }
   ],
   "source": [
    "import numpy as np\n",
    "import pandas as pd\n",
    "import matplotlib.pyplot as plt\n",
    "from tensorflow.keras.models import load_model\n",
    "import joblib\n",
    "\n",
    "FUTURE_HORIZON = 30 # 학습 시와 동일한 값으로 설정\n",
    "saved_model = load_model(f'./lstm/btc_price_model_{FUTURE_HORIZON}.h5')\n",
    "scaler = joblib.load('./lstm/btc_price_scaler.pkl')\n",
    "\n",
    "# --- RMSE 계산 (이 부분은 이전과 동일) ---\n",
    "predictions_scaled = saved_model.predict(X_test)\n",
    "\n",
    "temp_for_predictions = np.zeros((len(predictions_scaled), num_features))\n",
    "temp_for_predictions[:, 0] = predictions_scaled.flatten()\n",
    "predictions = scaler.inverse_transform(temp_for_predictions)[:, 0]\n",
    "\n",
    "temp_for_y_test = np.zeros((len(y_test), num_features))\n",
    "temp_for_y_test[:, 0] = y_test.flatten()\n",
    "y_test_unscaled = scaler.inverse_transform(temp_for_y_test)[:, 0]\n",
    "\n",
    "rmse = np.sqrt(np.mean((predictions - y_test_unscaled)**2))\n",
    "print(f\"테스트 데이터셋의 최종 RMSE: {rmse:.2f}\")\n",
    "\n",
    "\n",
    "# --- ✅ 결과 시각화 ---\n",
    "\n",
    "# 1. 실제 가격 흐름 전체를 가져옵니다.\n",
    "# y_test_unscaled는 미래 값들의 목록이므로, 실제 비트코인 가격 컬럼을 직접 사용합니다.\n",
    "features = ['btc_close', 'eth_close', 'xrp_close', 'dollar_close', 'gold_close', 'nasdaq_close', 'sp500_close']\n",
    "test_len = test_len = int(df.shape[0] * 0.1)\n",
    "test_data_actual_price = df[features]['btc_close'][-test_len:].values\n",
    "\n",
    "\n",
    "# 2. 예측값을 실제 시간 축에 맞게 배치할 '그림판'을 준비합니다.\n",
    "# 실제 가격과 길이가 같고, 비어있는(NaN) 배열을 만듭니다.\n",
    "plot_predictions = np.full(len(test_data_actual_price), np.nan)\n",
    "\n",
    "# 3. '그림판'의 올바른 위치에 예측값을 채워 넣습니다.\n",
    "# X_test의 각 샘플 i는 (i + SEQUENCE_LENGTH) 시점에서 (i + SEQUENCE_LENGTH + FUTURE_HORIZON - 1) 시점을 예측한 것입니다.\n",
    "# 이 예측값을 해당 미래 시점의 인덱스에 넣습니다.\n",
    "for i, pred in enumerate(predictions):\n",
    "    # 예측이 적용될 미래 시점의 인덱스를 계산\n",
    "    prediction_index = i + SEQUENCE_LENGTH + FUTURE_HORIZON - 1\n",
    "\n",
    "    # 해당 인덱스가 그림판 범위 안에 있을 경우에만 값을 채웁니다.\n",
    "    if prediction_index < len(plot_predictions):\n",
    "        plot_predictions[prediction_index] = pred\n",
    "\n",
    "# 4. 그래프를 그립니다.\n",
    "plt.figure(figsize=(15, 6))\n",
    "# 실제 가격 흐름을 파란색 실선으로 그립니다.\n",
    "plt.plot(test_data_actual_price, color='blue', label='BTC Price', zorder=1)\n",
    "# 예측 가격을 빨간색 점 또는 짧은 선으로 그립니다.\n",
    "plt.plot(plot_predictions, color='red', label=f'Predicted price in {FUTURE_HORIZON}min', linestyle='--', marker='o', markersize=3, zorder=2)\n",
    "\n",
    "plt.title(f'BTC Price Prediction ({FUTURE_HORIZON}minutes)')\n",
    "plt.xlabel('Time Ticks')\n",
    "plt.ylabel('USD')\n",
    "plt.legend()\n",
    "plt.grid(True)\n",
    "# plt.savefig('btc_prediction_result_horizon.png')\n",
    "# print(\"\\n예측 결과 그래프가 'btc_prediction_result_horizon.png' 파일로 저장되었습니다.\")\n",
    "plt.show()"
   ]
  },
  {
   "cell_type": "markdown",
   "id": "ee750d48",
   "metadata": {},
   "source": [
    "# 예측"
   ]
  },
  {
   "cell_type": "code",
   "execution_count": null,
   "id": "266c5755",
   "metadata": {},
   "outputs": [],
   "source": [
    "import numpy as np\n",
    "import pandas as pd\n",
    "from tensorflow.keras.models import load_model\n",
    "import joblib\n",
    "\n",
    "# --- 1. 예측 환경 설정 (가장 중요한 부분) ---\n",
    "SEQUENCE_LENGTH = 120  # 모델 학습 시와 동일한 시퀀스 길이\n",
    "FUTURE_HORIZON = 30    # 🎯 예측하고 싶은 미래 시점 (분). 1분 뒤를 예측하려면 1로 설정.\n",
    "\n",
    "# --- 2. 모델 및 데이터 로드 ---\n",
    "\n",
    "# 설정한 FUTURE_HORIZON에 맞는 모델을 동적으로 불러옵니다.\n",
    "# (모델 파일 이름이 'best_btc_model_horizon_60.h5'와 같은 형식이라고 가정)\n",
    "model_path = f'./lstm/btc_price_model_{FUTURE_HORIZON}.h5'\n",
    "print(f\"'{model_path}' 모델을 로드합니다...\")\n",
    "loaded_model = load_model(model_path)\n",
    "loaded_scaler = joblib.load('./lstm/btc_price_scaler.pkl')\n",
    "\n",
    "# 데이터 로드\n",
    "df = pd.read_csv(\"./data/data.csv\", index_col=0, parse_dates=True)\n",
    "features_to_use = ['btc_close', 'eth_close', 'xrp_close', 'dollar_close', 'gold_close', 'nasdaq_close', 'sp500_close']\n",
    "df = df[features_to_use] # 학습 때 사용한 변수만 선택\n",
    "num_features = len(features_to_use)\n",
    "\n",
    "# --- 3. 새로운 데이터 준비 ---\n",
    "# ✅ .values 제거: DataFrame을 그대로 사용하여 Scikit-learn 경고를 방지하고 안전성을 높임\n",
    "new_data_raw = df[-SEQUENCE_LENGTH:]\n",
    "\n",
    "# 데이터가 충분한지 확인\n",
    "if len(new_data_raw) < SEQUENCE_LENGTH:\n",
    "    print(f\"오류: 예측에 필요한 데이터 길이({SEQUENCE_LENGTH})보다 데이터가 부족합니다.\")\n",
    "else:\n",
    "    # --- 4. 데이터 정규화 ---\n",
    "    new_data_scaled = loaded_scaler.transform(new_data_raw)\n",
    "\n",
    "    # --- 5. 모델 입력 형태로 변경 ---\n",
    "    new_data_input = np.reshape(new_data_scaled, (1, SEQUENCE_LENGTH, num_features))\n",
    "\n",
    "    # --- 6. 가격 예측 ---\n",
    "    new_prediction_scaled = loaded_model.predict(new_data_input, verbose=0)\n",
    "\n",
    "    # --- 7. 예측 결과 역변환 ---\n",
    "    temp_for_prediction = np.zeros((1, num_features))\n",
    "    temp_for_prediction[:, 0] = new_prediction_scaled.flatten()\n",
    "    new_prediction = loaded_scaler.inverse_transform(temp_for_prediction)[:, 0]\n",
    "\n",
    "    print(\"---\")\n",
    "    # ✅ 최종 출력 메시지를 FUTURE_HORIZON에 맞게 수정\n",
    "    print(f\"현재 시점 기준, {FUTURE_HORIZON}분 뒤 BTC 예측 가격: {new_prediction[0]:.2f} USD\")"
   ]
  },
  {
   "cell_type": "markdown",
   "id": "cc850504",
   "metadata": {},
   "source": [
    "# 백테스팅"
   ]
  },
  {
   "cell_type": "code",
   "execution_count": null,
   "id": "43b86fcc",
   "metadata": {},
   "outputs": [
    {
     "name": "stderr",
     "output_type": "stream",
     "text": [
      "WARNING:absl:Compiled the loaded model, but the compiled metrics have yet to be built. `model.compile_metrics` will be empty until you train or evaluate the model.\n"
     ]
    },
    {
     "name": "stdout",
     "output_type": "stream",
     "text": [
      "--- 백테스팅 시작 ---\n",
      "초기 자본: 1,000,000원\n"
     ]
    },
    {
     "name": "stderr",
     "output_type": "stream",
     "text": [
      " 29%|██▊       | 3283/11519 [07:55<19:53,  6.90it/s]  \n"
     ]
    },
    {
     "ename": "KeyboardInterrupt",
     "evalue": "",
     "output_type": "error",
     "traceback": [
      "\u001b[31m---------------------------------------------------------------------------\u001b[39m",
      "\u001b[31mKeyboardInterrupt\u001b[39m                         Traceback (most recent call last)",
      "\u001b[36mCell\u001b[39m\u001b[36m \u001b[39m\u001b[32mIn[25]\u001b[39m\u001b[32m, line 62\u001b[39m\n\u001b[32m     59\u001b[39m input_model = np.reshape(input_sequence_scaled, (\u001b[32m1\u001b[39m, SEQUENCE_LENGTH, num_features))\n\u001b[32m     61\u001b[39m \u001b[38;5;66;03m# 다음 1분 가격 예측 (정규화된 값)\u001b[39;00m\n\u001b[32m---> \u001b[39m\u001b[32m62\u001b[39m prediction_scaled = \u001b[43mmodel\u001b[49m\u001b[43m.\u001b[49m\u001b[43mpredict\u001b[49m\u001b[43m(\u001b[49m\u001b[43minput_model\u001b[49m\u001b[43m,\u001b[49m\u001b[43m \u001b[49m\u001b[43mverbose\u001b[49m\u001b[43m=\u001b[49m\u001b[32;43m0\u001b[39;49m\u001b[43m)\u001b[49m\n\u001b[32m     64\u001b[39m \u001b[38;5;66;03m# 예측값을 원래 가격으로 역변환\u001b[39;00m\n\u001b[32m     65\u001b[39m temp_array = np.zeros((\u001b[32m1\u001b[39m, num_features))\n",
      "\u001b[36mFile \u001b[39m\u001b[32md:\\desktop\\wafflestudio\\hasha\\coin\\venv\\Lib\\site-packages\\keras\\src\\utils\\traceback_utils.py:117\u001b[39m, in \u001b[36mfilter_traceback.<locals>.error_handler\u001b[39m\u001b[34m(*args, **kwargs)\u001b[39m\n\u001b[32m    115\u001b[39m filtered_tb = \u001b[38;5;28;01mNone\u001b[39;00m\n\u001b[32m    116\u001b[39m \u001b[38;5;28;01mtry\u001b[39;00m:\n\u001b[32m--> \u001b[39m\u001b[32m117\u001b[39m     \u001b[38;5;28;01mreturn\u001b[39;00m \u001b[43mfn\u001b[49m\u001b[43m(\u001b[49m\u001b[43m*\u001b[49m\u001b[43margs\u001b[49m\u001b[43m,\u001b[49m\u001b[43m \u001b[49m\u001b[43m*\u001b[49m\u001b[43m*\u001b[49m\u001b[43mkwargs\u001b[49m\u001b[43m)\u001b[49m\n\u001b[32m    118\u001b[39m \u001b[38;5;28;01mexcept\u001b[39;00m \u001b[38;5;167;01mException\u001b[39;00m \u001b[38;5;28;01mas\u001b[39;00m e:\n\u001b[32m    119\u001b[39m     filtered_tb = _process_traceback_frames(e.__traceback__)\n",
      "\u001b[36mFile \u001b[39m\u001b[32md:\\desktop\\wafflestudio\\hasha\\coin\\venv\\Lib\\site-packages\\keras\\src\\backend\\tensorflow\\trainer.py:566\u001b[39m, in \u001b[36mTensorFlowTrainer.predict\u001b[39m\u001b[34m(self, x, batch_size, verbose, steps, callbacks)\u001b[39m\n\u001b[32m    564\u001b[39m callbacks.on_predict_batch_begin(begin_step)\n\u001b[32m    565\u001b[39m data = get_data(iterator)\n\u001b[32m--> \u001b[39m\u001b[32m566\u001b[39m batch_outputs = \u001b[38;5;28;43mself\u001b[39;49m\u001b[43m.\u001b[49m\u001b[43mpredict_function\u001b[49m\u001b[43m(\u001b[49m\u001b[43mdata\u001b[49m\u001b[43m)\u001b[49m\n\u001b[32m    567\u001b[39m outputs = append_to_outputs(batch_outputs, outputs)\n\u001b[32m    568\u001b[39m callbacks.on_predict_batch_end(\n\u001b[32m    569\u001b[39m     end_step, {\u001b[33m\"\u001b[39m\u001b[33moutputs\u001b[39m\u001b[33m\"\u001b[39m: batch_outputs}\n\u001b[32m    570\u001b[39m )\n",
      "\u001b[36mFile \u001b[39m\u001b[32md:\\desktop\\wafflestudio\\hasha\\coin\\venv\\Lib\\site-packages\\tensorflow\\python\\util\\traceback_utils.py:150\u001b[39m, in \u001b[36mfilter_traceback.<locals>.error_handler\u001b[39m\u001b[34m(*args, **kwargs)\u001b[39m\n\u001b[32m    148\u001b[39m filtered_tb = \u001b[38;5;28;01mNone\u001b[39;00m\n\u001b[32m    149\u001b[39m \u001b[38;5;28;01mtry\u001b[39;00m:\n\u001b[32m--> \u001b[39m\u001b[32m150\u001b[39m   \u001b[38;5;28;01mreturn\u001b[39;00m \u001b[43mfn\u001b[49m\u001b[43m(\u001b[49m\u001b[43m*\u001b[49m\u001b[43margs\u001b[49m\u001b[43m,\u001b[49m\u001b[43m \u001b[49m\u001b[43m*\u001b[49m\u001b[43m*\u001b[49m\u001b[43mkwargs\u001b[49m\u001b[43m)\u001b[49m\n\u001b[32m    151\u001b[39m \u001b[38;5;28;01mexcept\u001b[39;00m \u001b[38;5;167;01mException\u001b[39;00m \u001b[38;5;28;01mas\u001b[39;00m e:\n\u001b[32m    152\u001b[39m   filtered_tb = _process_traceback_frames(e.__traceback__)\n",
      "\u001b[36mFile \u001b[39m\u001b[32md:\\desktop\\wafflestudio\\hasha\\coin\\venv\\Lib\\site-packages\\tensorflow\\python\\eager\\polymorphic_function\\polymorphic_function.py:833\u001b[39m, in \u001b[36mFunction.__call__\u001b[39m\u001b[34m(self, *args, **kwds)\u001b[39m\n\u001b[32m    830\u001b[39m compiler = \u001b[33m\"\u001b[39m\u001b[33mxla\u001b[39m\u001b[33m\"\u001b[39m \u001b[38;5;28;01mif\u001b[39;00m \u001b[38;5;28mself\u001b[39m._jit_compile \u001b[38;5;28;01melse\u001b[39;00m \u001b[33m\"\u001b[39m\u001b[33mnonXla\u001b[39m\u001b[33m\"\u001b[39m\n\u001b[32m    832\u001b[39m \u001b[38;5;28;01mwith\u001b[39;00m OptionalXlaContext(\u001b[38;5;28mself\u001b[39m._jit_compile):\n\u001b[32m--> \u001b[39m\u001b[32m833\u001b[39m   result = \u001b[38;5;28;43mself\u001b[39;49m\u001b[43m.\u001b[49m\u001b[43m_call\u001b[49m\u001b[43m(\u001b[49m\u001b[43m*\u001b[49m\u001b[43margs\u001b[49m\u001b[43m,\u001b[49m\u001b[43m \u001b[49m\u001b[43m*\u001b[49m\u001b[43m*\u001b[49m\u001b[43mkwds\u001b[49m\u001b[43m)\u001b[49m\n\u001b[32m    835\u001b[39m new_tracing_count = \u001b[38;5;28mself\u001b[39m.experimental_get_tracing_count()\n\u001b[32m    836\u001b[39m without_tracing = (tracing_count == new_tracing_count)\n",
      "\u001b[36mFile \u001b[39m\u001b[32md:\\desktop\\wafflestudio\\hasha\\coin\\venv\\Lib\\site-packages\\tensorflow\\python\\eager\\polymorphic_function\\polymorphic_function.py:878\u001b[39m, in \u001b[36mFunction._call\u001b[39m\u001b[34m(self, *args, **kwds)\u001b[39m\n\u001b[32m    875\u001b[39m \u001b[38;5;28mself\u001b[39m._lock.release()\n\u001b[32m    876\u001b[39m \u001b[38;5;66;03m# In this case we have not created variables on the first call. So we can\u001b[39;00m\n\u001b[32m    877\u001b[39m \u001b[38;5;66;03m# run the first trace but we should fail if variables are created.\u001b[39;00m\n\u001b[32m--> \u001b[39m\u001b[32m878\u001b[39m results = \u001b[43mtracing_compilation\u001b[49m\u001b[43m.\u001b[49m\u001b[43mcall_function\u001b[49m\u001b[43m(\u001b[49m\n\u001b[32m    879\u001b[39m \u001b[43m    \u001b[49m\u001b[43margs\u001b[49m\u001b[43m,\u001b[49m\u001b[43m \u001b[49m\u001b[43mkwds\u001b[49m\u001b[43m,\u001b[49m\u001b[43m \u001b[49m\u001b[38;5;28;43mself\u001b[39;49m\u001b[43m.\u001b[49m\u001b[43m_variable_creation_config\u001b[49m\n\u001b[32m    880\u001b[39m \u001b[43m\u001b[49m\u001b[43m)\u001b[49m\n\u001b[32m    881\u001b[39m \u001b[38;5;28;01mif\u001b[39;00m \u001b[38;5;28mself\u001b[39m._created_variables:\n\u001b[32m    882\u001b[39m   \u001b[38;5;28;01mraise\u001b[39;00m \u001b[38;5;167;01mValueError\u001b[39;00m(\u001b[33m\"\u001b[39m\u001b[33mCreating variables on a non-first call to a function\u001b[39m\u001b[33m\"\u001b[39m\n\u001b[32m    883\u001b[39m                    \u001b[33m\"\u001b[39m\u001b[33m decorated with tf.function.\u001b[39m\u001b[33m\"\u001b[39m)\n",
      "\u001b[36mFile \u001b[39m\u001b[32md:\\desktop\\wafflestudio\\hasha\\coin\\venv\\Lib\\site-packages\\tensorflow\\python\\eager\\polymorphic_function\\tracing_compilation.py:139\u001b[39m, in \u001b[36mcall_function\u001b[39m\u001b[34m(args, kwargs, tracing_options)\u001b[39m\n\u001b[32m    137\u001b[39m bound_args = function.function_type.bind(*args, **kwargs)\n\u001b[32m    138\u001b[39m flat_inputs = function.function_type.unpack_inputs(bound_args)\n\u001b[32m--> \u001b[39m\u001b[32m139\u001b[39m \u001b[38;5;28;01mreturn\u001b[39;00m \u001b[43mfunction\u001b[49m\u001b[43m.\u001b[49m\u001b[43m_call_flat\u001b[49m\u001b[43m(\u001b[49m\u001b[43m  \u001b[49m\u001b[38;5;66;43;03m# pylint: disable=protected-access\u001b[39;49;00m\n\u001b[32m    140\u001b[39m \u001b[43m    \u001b[49m\u001b[43mflat_inputs\u001b[49m\u001b[43m,\u001b[49m\u001b[43m \u001b[49m\u001b[43mcaptured_inputs\u001b[49m\u001b[43m=\u001b[49m\u001b[43mfunction\u001b[49m\u001b[43m.\u001b[49m\u001b[43mcaptured_inputs\u001b[49m\n\u001b[32m    141\u001b[39m \u001b[43m\u001b[49m\u001b[43m)\u001b[49m\n",
      "\u001b[36mFile \u001b[39m\u001b[32md:\\desktop\\wafflestudio\\hasha\\coin\\venv\\Lib\\site-packages\\tensorflow\\python\\eager\\polymorphic_function\\concrete_function.py:1322\u001b[39m, in \u001b[36mConcreteFunction._call_flat\u001b[39m\u001b[34m(self, tensor_inputs, captured_inputs)\u001b[39m\n\u001b[32m   1318\u001b[39m possible_gradient_type = gradients_util.PossibleTapeGradientTypes(args)\n\u001b[32m   1319\u001b[39m \u001b[38;5;28;01mif\u001b[39;00m (possible_gradient_type == gradients_util.POSSIBLE_GRADIENT_TYPES_NONE\n\u001b[32m   1320\u001b[39m     \u001b[38;5;129;01mand\u001b[39;00m executing_eagerly):\n\u001b[32m   1321\u001b[39m   \u001b[38;5;66;03m# No tape is watching; skip to running the function.\u001b[39;00m\n\u001b[32m-> \u001b[39m\u001b[32m1322\u001b[39m   \u001b[38;5;28;01mreturn\u001b[39;00m \u001b[38;5;28;43mself\u001b[39;49m\u001b[43m.\u001b[49m\u001b[43m_inference_function\u001b[49m\u001b[43m.\u001b[49m\u001b[43mcall_preflattened\u001b[49m\u001b[43m(\u001b[49m\u001b[43margs\u001b[49m\u001b[43m)\u001b[49m\n\u001b[32m   1323\u001b[39m forward_backward = \u001b[38;5;28mself\u001b[39m._select_forward_and_backward_functions(\n\u001b[32m   1324\u001b[39m     args,\n\u001b[32m   1325\u001b[39m     possible_gradient_type,\n\u001b[32m   1326\u001b[39m     executing_eagerly)\n\u001b[32m   1327\u001b[39m forward_function, args_with_tangents = forward_backward.forward()\n",
      "\u001b[36mFile \u001b[39m\u001b[32md:\\desktop\\wafflestudio\\hasha\\coin\\venv\\Lib\\site-packages\\tensorflow\\python\\eager\\polymorphic_function\\atomic_function.py:216\u001b[39m, in \u001b[36mAtomicFunction.call_preflattened\u001b[39m\u001b[34m(self, args)\u001b[39m\n\u001b[32m    214\u001b[39m \u001b[38;5;28;01mdef\u001b[39;00m\u001b[38;5;250m \u001b[39m\u001b[34mcall_preflattened\u001b[39m(\u001b[38;5;28mself\u001b[39m, args: Sequence[core.Tensor]) -> Any:\n\u001b[32m    215\u001b[39m \u001b[38;5;250m  \u001b[39m\u001b[33;03m\"\"\"Calls with flattened tensor inputs and returns the structured output.\"\"\"\u001b[39;00m\n\u001b[32m--> \u001b[39m\u001b[32m216\u001b[39m   flat_outputs = \u001b[38;5;28;43mself\u001b[39;49m\u001b[43m.\u001b[49m\u001b[43mcall_flat\u001b[49m\u001b[43m(\u001b[49m\u001b[43m*\u001b[49m\u001b[43margs\u001b[49m\u001b[43m)\u001b[49m\n\u001b[32m    217\u001b[39m   \u001b[38;5;28;01mreturn\u001b[39;00m \u001b[38;5;28mself\u001b[39m.function_type.pack_output(flat_outputs)\n",
      "\u001b[36mFile \u001b[39m\u001b[32md:\\desktop\\wafflestudio\\hasha\\coin\\venv\\Lib\\site-packages\\tensorflow\\python\\eager\\polymorphic_function\\atomic_function.py:251\u001b[39m, in \u001b[36mAtomicFunction.call_flat\u001b[39m\u001b[34m(self, *args)\u001b[39m\n\u001b[32m    249\u001b[39m \u001b[38;5;28;01mwith\u001b[39;00m record.stop_recording():\n\u001b[32m    250\u001b[39m   \u001b[38;5;28;01mif\u001b[39;00m \u001b[38;5;28mself\u001b[39m._bound_context.executing_eagerly():\n\u001b[32m--> \u001b[39m\u001b[32m251\u001b[39m     outputs = \u001b[38;5;28;43mself\u001b[39;49m\u001b[43m.\u001b[49m\u001b[43m_bound_context\u001b[49m\u001b[43m.\u001b[49m\u001b[43mcall_function\u001b[49m\u001b[43m(\u001b[49m\n\u001b[32m    252\u001b[39m \u001b[43m        \u001b[49m\u001b[38;5;28;43mself\u001b[39;49m\u001b[43m.\u001b[49m\u001b[43mname\u001b[49m\u001b[43m,\u001b[49m\n\u001b[32m    253\u001b[39m \u001b[43m        \u001b[49m\u001b[38;5;28;43mlist\u001b[39;49m\u001b[43m(\u001b[49m\u001b[43margs\u001b[49m\u001b[43m)\u001b[49m\u001b[43m,\u001b[49m\n\u001b[32m    254\u001b[39m \u001b[43m        \u001b[49m\u001b[38;5;28;43mlen\u001b[39;49m\u001b[43m(\u001b[49m\u001b[38;5;28;43mself\u001b[39;49m\u001b[43m.\u001b[49m\u001b[43mfunction_type\u001b[49m\u001b[43m.\u001b[49m\u001b[43mflat_outputs\u001b[49m\u001b[43m)\u001b[49m\u001b[43m,\u001b[49m\n\u001b[32m    255\u001b[39m \u001b[43m    \u001b[49m\u001b[43m)\u001b[49m\n\u001b[32m    256\u001b[39m   \u001b[38;5;28;01melse\u001b[39;00m:\n\u001b[32m    257\u001b[39m     outputs = make_call_op_in_graph(\n\u001b[32m    258\u001b[39m         \u001b[38;5;28mself\u001b[39m,\n\u001b[32m    259\u001b[39m         \u001b[38;5;28mlist\u001b[39m(args),\n\u001b[32m    260\u001b[39m         \u001b[38;5;28mself\u001b[39m._bound_context.function_call_options.as_attrs(),\n\u001b[32m    261\u001b[39m     )\n",
      "\u001b[36mFile \u001b[39m\u001b[32md:\\desktop\\wafflestudio\\hasha\\coin\\venv\\Lib\\site-packages\\tensorflow\\python\\eager\\context.py:1688\u001b[39m, in \u001b[36mContext.call_function\u001b[39m\u001b[34m(self, name, tensor_inputs, num_outputs)\u001b[39m\n\u001b[32m   1686\u001b[39m cancellation_context = cancellation.context()\n\u001b[32m   1687\u001b[39m \u001b[38;5;28;01mif\u001b[39;00m cancellation_context \u001b[38;5;129;01mis\u001b[39;00m \u001b[38;5;28;01mNone\u001b[39;00m:\n\u001b[32m-> \u001b[39m\u001b[32m1688\u001b[39m   outputs = \u001b[43mexecute\u001b[49m\u001b[43m.\u001b[49m\u001b[43mexecute\u001b[49m\u001b[43m(\u001b[49m\n\u001b[32m   1689\u001b[39m \u001b[43m      \u001b[49m\u001b[43mname\u001b[49m\u001b[43m.\u001b[49m\u001b[43mdecode\u001b[49m\u001b[43m(\u001b[49m\u001b[33;43m\"\u001b[39;49m\u001b[33;43mutf-8\u001b[39;49m\u001b[33;43m\"\u001b[39;49m\u001b[43m)\u001b[49m\u001b[43m,\u001b[49m\n\u001b[32m   1690\u001b[39m \u001b[43m      \u001b[49m\u001b[43mnum_outputs\u001b[49m\u001b[43m=\u001b[49m\u001b[43mnum_outputs\u001b[49m\u001b[43m,\u001b[49m\n\u001b[32m   1691\u001b[39m \u001b[43m      \u001b[49m\u001b[43minputs\u001b[49m\u001b[43m=\u001b[49m\u001b[43mtensor_inputs\u001b[49m\u001b[43m,\u001b[49m\n\u001b[32m   1692\u001b[39m \u001b[43m      \u001b[49m\u001b[43mattrs\u001b[49m\u001b[43m=\u001b[49m\u001b[43mattrs\u001b[49m\u001b[43m,\u001b[49m\n\u001b[32m   1693\u001b[39m \u001b[43m      \u001b[49m\u001b[43mctx\u001b[49m\u001b[43m=\u001b[49m\u001b[38;5;28;43mself\u001b[39;49m\u001b[43m,\u001b[49m\n\u001b[32m   1694\u001b[39m \u001b[43m  \u001b[49m\u001b[43m)\u001b[49m\n\u001b[32m   1695\u001b[39m \u001b[38;5;28;01melse\u001b[39;00m:\n\u001b[32m   1696\u001b[39m   outputs = execute.execute_with_cancellation(\n\u001b[32m   1697\u001b[39m       name.decode(\u001b[33m\"\u001b[39m\u001b[33mutf-8\u001b[39m\u001b[33m\"\u001b[39m),\n\u001b[32m   1698\u001b[39m       num_outputs=num_outputs,\n\u001b[32m   (...)\u001b[39m\u001b[32m   1702\u001b[39m       cancellation_manager=cancellation_context,\n\u001b[32m   1703\u001b[39m   )\n",
      "\u001b[36mFile \u001b[39m\u001b[32md:\\desktop\\wafflestudio\\hasha\\coin\\venv\\Lib\\site-packages\\tensorflow\\python\\eager\\execute.py:53\u001b[39m, in \u001b[36mquick_execute\u001b[39m\u001b[34m(op_name, num_outputs, inputs, attrs, ctx, name)\u001b[39m\n\u001b[32m     51\u001b[39m \u001b[38;5;28;01mtry\u001b[39;00m:\n\u001b[32m     52\u001b[39m   ctx.ensure_initialized()\n\u001b[32m---> \u001b[39m\u001b[32m53\u001b[39m   tensors = \u001b[43mpywrap_tfe\u001b[49m\u001b[43m.\u001b[49m\u001b[43mTFE_Py_Execute\u001b[49m\u001b[43m(\u001b[49m\u001b[43mctx\u001b[49m\u001b[43m.\u001b[49m\u001b[43m_handle\u001b[49m\u001b[43m,\u001b[49m\u001b[43m \u001b[49m\u001b[43mdevice_name\u001b[49m\u001b[43m,\u001b[49m\u001b[43m \u001b[49m\u001b[43mop_name\u001b[49m\u001b[43m,\u001b[49m\n\u001b[32m     54\u001b[39m \u001b[43m                                      \u001b[49m\u001b[43minputs\u001b[49m\u001b[43m,\u001b[49m\u001b[43m \u001b[49m\u001b[43mattrs\u001b[49m\u001b[43m,\u001b[49m\u001b[43m \u001b[49m\u001b[43mnum_outputs\u001b[49m\u001b[43m)\u001b[49m\n\u001b[32m     55\u001b[39m \u001b[38;5;28;01mexcept\u001b[39;00m core._NotOkStatusException \u001b[38;5;28;01mas\u001b[39;00m e:\n\u001b[32m     56\u001b[39m   \u001b[38;5;28;01mif\u001b[39;00m name \u001b[38;5;129;01mis\u001b[39;00m \u001b[38;5;129;01mnot\u001b[39;00m \u001b[38;5;28;01mNone\u001b[39;00m:\n",
      "\u001b[31mKeyboardInterrupt\u001b[39m: "
     ]
    }
   ],
   "source": [
    "import numpy as np\n",
    "import pandas as pd\n",
    "import matplotlib.pyplot as plt\n",
    "from tensorflow.keras.models import load_model\n",
    "from tqdm import tqdm\n",
    "import joblib\n",
    "\n",
    "# --- ✅ 1. 설정의 유연성 및 명확성 확보 ---\n",
    "# 이 섹션에서 모든 파라미터를 관리합니다.\n",
    "\n",
    "SEQUENCE_LENGTH = 120    # 모델 학습 시 사용한 시퀀스 길이\n",
    "FUTURE_HORIZON = 30       # 예측할 미래 시점 (분). 1분 뒤 모델은 1, 60분 뒤 모델은 60\n",
    "FEE_RATE = 0.0005        # 거래 수수료 (예: 0.05%)\n",
    "BUY_THRESHOLD = 0.001    # 현재가 대비 0.1% 이상 상승 예측 시 매수\n",
    "SELL_THRESHOLD = 0.001   # 현재가 대비 0.1% 이상 하락 예측 시 매도\n",
    "\n",
    "# --- 2. 모델 및 데이터 준비 ---\n",
    "\n",
    "# 설정값에 따라 모델과 데이터를 동적으로 준비합니다.\n",
    "if FUTURE_HORIZON == 1:\n",
    "    model_path = './lstm/btc_price_model.h5' # 1분 예측 모델 이름\n",
    "else:\n",
    "    model_path = f'./lstm/btc_price_model_{FUTURE_HORIZON}.h5'\n",
    "\n",
    "print(f\"'{model_path}' 모델을 로드합니다...\")\n",
    "model = load_model(model_path)\n",
    "scaler = joblib.load('./lstm/btc_price_scaler.pkl')\n",
    "\n",
    "df = pd.read_csv(\"./data/data.csv\", index_col=0, parse_dates=True)\n",
    "# ✅ 학습에 사용한 변수 목록을 명확히 정의\n",
    "features_to_use = ['btc_close', 'eth_close', 'xrp_close', 'dollar_close', 'gold_close', 'nasdaq_close', 'sp500_close']\n",
    "df = df[features_to_use]\n",
    "num_features = len(features_to_use)\n",
    "\n",
    "test_len = int(df.shape[0] * 0.1)\n",
    "backtest_data_raw = df[-test_len:].copy()\n",
    "\n",
    "# 초기 자본금 설정\n",
    "initial_capital = 1000000\n",
    "cash = initial_capital\n",
    "btc_held = 0\n",
    "\n",
    "portfolio_history = []\n",
    "transaction_log = []\n",
    "\n",
    "print(\"--- 백테스팅 시작 ---\")\n",
    "print(f\"초기 자본: {initial_capital:,.0f}원\")\n",
    "\n",
    "# --- 3. 시뮬레이션 루프 ---\n",
    "\n",
    "for i in tqdm(range(len(backtest_data_raw) - SEQUENCE_LENGTH - 1)):\n",
    "    input_sequence_raw = backtest_data_raw.iloc[i : i + SEQUENCE_LENGTH]\n",
    "    current_price = backtest_data_raw.iloc[i + SEQUENCE_LENGTH]['btc_close']\n",
    "    \n",
    "    input_sequence_scaled = scaler.transform(input_sequence_raw)\n",
    "    input_model = np.reshape(input_sequence_scaled, (1, SEQUENCE_LENGTH, num_features))\n",
    "    prediction_scaled = model.predict(input_model, verbose=0)\n",
    "    \n",
    "    temp_array = np.zeros((1, num_features))\n",
    "    temp_array[:, 0] = prediction_scaled.flatten()\n",
    "    predicted_price = scaler.inverse_transform(temp_array)[:, 0][0]\n",
    "\n",
    "    # ✅ 4. 현실적인 매매 전략 및 거래 비용 반영 ---\n",
    "    \n",
    "    # 매수 조건: 예측 가격이 현재가보다 'BUY_THRESHOLD' 이상 오를 것 같고, 현금이 있을 때\n",
    "    if predicted_price > current_price * (1 + BUY_THRESHOLD) and cash > 0:\n",
    "        # 수수료를 제외하고 살 수 있는 BTC 수량 계산\n",
    "        btc_to_buy = (cash / current_price) * (1 - FEE_RATE)\n",
    "        btc_held += btc_to_buy\n",
    "        cash = 0\n",
    "        transaction_log.append(f\"시점 {i}: 매수 | 가격: {current_price:,.0f} | 수량: {btc_to_buy:.4f}\")\n",
    "        \n",
    "    # 매도 조건: 예측 가격이 현재가보다 'SELL_THRESHOLD' 이상 내릴 것 같고, 보유한 BTC가 있을 때\n",
    "    elif predicted_price < current_price * (1 - SELL_THRESHOLD) and btc_held > 0:\n",
    "        # 수수료를 제외하고 받게 될 현금 계산\n",
    "        cash = (btc_held * current_price) * (1 - FEE_RATE)\n",
    "        btc_held = 0\n",
    "        transaction_log.append(f\"시점 {i}: 매도 | 가격: {current_price:,.0f} | 실현금액: {cash:,.0f}원\")\n",
    "    \n",
    "    # 그 외의 경우 (매수/매도 조건 사이의 '중립 구간')는 아무것도 하지 않음 (Hold)\n",
    "    \n",
    "    current_portfolio_value = cash + (btc_held * current_price)\n",
    "    portfolio_history.append(current_portfolio_value)\n",
    "\n",
    "# --- 5. 결과 분석 및 시각화 ---\n",
    "# (이 부분은 이전 코드와 동일)\n",
    "\n",
    "if not portfolio_history:\n",
    "    print(\"\\n거래가 한 번도 발생하지 않았습니다.\")\n",
    "else:\n",
    "    final_portfolio_value = portfolio_history[-1]\n",
    "    profit = final_portfolio_value - initial_capital\n",
    "    profit_rate = (profit / initial_capital) * 100\n",
    "\n",
    "    print(\"\\n--- 백테스팅 종료 ---\")\n",
    "    for log in transaction_log[:5]:\n",
    "        print(log)\n",
    "    if len(transaction_log) > 5: print(\"...\")\n",
    "\n",
    "    print(f\"\\n최종 자산: {final_portfolio_value:,.0f}원\")\n",
    "    print(f\"총 손익: {profit:,.0f}원\")\n",
    "    print(f\"수익률: {profit_rate:.2f}%\")\n",
    "\n",
    "    plt.figure(figsize=(15, 6))\n",
    "    plt.plot(portfolio_history, label='Portfolio Value', color='blue')\n",
    "    plt.title('Improved Automated Trading Backtesting Results')\n",
    "    plt.xlabel('Time (Time Ticks)')\n",
    "    plt.ylabel('Portfolio Value (KRW)')\n",
    "    plt.legend()\n",
    "    plt.grid(True)\n",
    "    plt.show()"
   ]
  },
  {
   "cell_type": "code",
   "execution_count": null,
   "id": "6db381d4",
   "metadata": {},
   "outputs": [],
   "source": [
    "import numpy as np\n",
    "import pandas as pd\n",
    "import matplotlib.pyplot as plt\n",
    "from tensorflow.keras.models import load_model\n",
    "from tqdm import tqdm\n",
    "import joblib\n",
    "\n",
    "# --- ✅ 1. 설정 보강 ---\n",
    "SEQUENCE_LENGTH = 120\n",
    "FUTURE_HORIZON = 30\n",
    "FEE_RATE = 0.0005\n",
    "# ✅ 이동평균선 기간 설정\n",
    "SHORT_MA_WINDOW = 20\n",
    "LONG_MA_WINDOW = 60\n",
    "\n",
    "# --- 2. 모델 및 데이터 준비 ---\n",
    "if FUTURE_HORIZON == 1:\n",
    "    model_path = './lstm/btc_price_model.h5'\n",
    "else:\n",
    "    model_path = f'./lstm/btc_price_model_{FUTURE_HORIZON}.h5'\n",
    "\n",
    "print(f\"'{model_path}' 모델을 로드합니다...\")\n",
    "model = load_model(model_path)\n",
    "scaler = joblib.load('./lstm/btc_price_scaler.pkl')\n",
    "\n",
    "df = pd.read_csv(\"./data/data.csv\", index_col=0, parse_dates=True)\n",
    "features_to_use = ['btc_close', 'eth_close', 'xrp_close', 'dollar_close', 'gold_close', 'nasdaq_close', 'sp500_close']\n",
    "df = df[features_to_use]\n",
    "num_features = len(features_to_use)\n",
    "\n",
    "test_len = int(df.shape[0] * 0.1)\n",
    "backtest_data_raw = df[-test_len:].copy()\n",
    "\n",
    "# ✅ 이동평균선 계산\n",
    "backtest_data_raw['short_ma'] = backtest_data_raw['btc_close'].rolling(window=SHORT_MA_WINDOW).mean()\n",
    "backtest_data_raw['long_ma'] = backtest_data_raw['btc_close'].rolling(window=LONG_MA_WINDOW).mean()\n",
    "\n",
    "# 초기 자본금 설정\n",
    "initial_capital = 1000000\n",
    "cash = initial_capital\n",
    "btc_held = 0\n",
    "\n",
    "portfolio_history = []\n",
    "transaction_log = []\n",
    "\n",
    "print(\"--- 백테스팅 시작 ---\")\n",
    "print(f\"초기 자본: {initial_capital:,.0f}원\")\n",
    "\n",
    "# --- 3. 시뮬레이션 루프 ---\n",
    "for i in tqdm(range(len(backtest_data_raw) - SEQUENCE_LENGTH - 1)):\n",
    "    input_sequence_raw = backtest_data_raw.iloc[i : i + SEQUENCE_LENGTH]\n",
    "    \n",
    "    # ✅ 현재 시점을 t로 정의 (의사결정 시점)\n",
    "    t = i + SEQUENCE_LENGTH\n",
    "    current_price = backtest_data_raw.iloc[t]['btc_close']\n",
    "    \n",
    "    # ✅ 이동평균선 값 가져오기\n",
    "    short_ma_current = backtest_data_raw['short_ma'].iloc[t]\n",
    "    long_ma_current = backtest_data_raw['long_ma'].iloc[t]\n",
    "    short_ma_prev = backtest_data_raw['short_ma'].iloc[t-1]\n",
    "    long_ma_prev = backtest_data_raw['long_ma'].iloc[t-1]\n",
    "    \n",
    "    # ✅ 이동평균선이 계산되지 않은 초기 구간은 건너뜀\n",
    "    if pd.isna(long_ma_current) or pd.isna(long_ma_prev):\n",
    "        portfolio_history.append(cash + (btc_held * current_price))\n",
    "        continue\n",
    "\n",
    "    # LSTM 예측 (이 부분은 동일)\n",
    "    input_sequence_scaled = scaler.transform(input_sequence_raw)\n",
    "    input_model = np.reshape(input_sequence_scaled, (1, SEQUENCE_LENGTH, num_features))\n",
    "    prediction_scaled = model.predict(input_model, verbose=0)\n",
    "    \n",
    "    temp_array = np.zeros((1, num_features))\n",
    "    temp_array[:, 0] = prediction_scaled.flatten()\n",
    "    predicted_price = scaler.inverse_transform(temp_array)[:, 0][0]\n",
    "\n",
    "    # --- ✅ 4. 이평선 교차 + LSTM 확인 전략 ---\n",
    "    \n",
    "    # 신호 정의\n",
    "    golden_cross = (short_ma_prev < long_ma_prev) and (short_ma_current > long_ma_current)\n",
    "    dead_cross = (short_ma_prev > long_ma_prev) and (short_ma_current < long_ma_current)\n",
    "    lstm_confirms_buy = predicted_price > current_price\n",
    "    lstm_confirms_sell = predicted_price < current_price\n",
    "\n",
    "    # 매수 조건: 골든 크로스 발생 + LSTM이 상승 예측 + 현금 보유\n",
    "    if golden_cross and lstm_confirms_buy and cash > 0:\n",
    "        btc_to_buy = (cash / current_price) * (1 - FEE_RATE)\n",
    "        btc_held += btc_to_buy\n",
    "        cash = 0\n",
    "        transaction_log.append(f\"시점 {t}: 매수 (골든크로스) | 가격: {current_price:,.0f}\")\n",
    "        \n",
    "    # 매도 조건: 데드 크로스 발생 + LSTM이 하락 예측 + BTC 보유\n",
    "    elif dead_cross and lstm_confirms_sell and btc_held > 0:\n",
    "        cash = (btc_held * current_price) * (1 - FEE_RATE)\n",
    "        btc_held = 0\n",
    "        transaction_log.append(f\"시점 {t}: 매도 (데드크로스) | 가격: {current_price:,.0f}\")\n",
    "    \n",
    "    current_portfolio_value = cash + (btc_held * current_price)\n",
    "    portfolio_history.append(current_portfolio_value)\n",
    "\n",
    "# --- 5. 결과 분석 및 시각화 ---\n",
    "# (이 부분은 이전 코드와 동일)\n",
    "\n",
    "if not portfolio_history or not transaction_log:\n",
    "    print(\"\\n거래가 한 번도 발생하지 않았습니다.\")\n",
    "else:\n",
    "    final_portfolio_value = portfolio_history[-1]\n",
    "    profit = final_portfolio_value - initial_capital\n",
    "    profit_rate = (profit / initial_capital) * 100\n",
    "\n",
    "    print(\"\\n--- 백테스팅 종료 ---\")\n",
    "    for log in transaction_log:\n",
    "        print(log)\n",
    "\n",
    "    print(f\"\\n최종 자산: {final_portfolio_value:,.0f}원\")\n",
    "    print(f\"총 손익: {profit:,.0f}원\")\n",
    "    print(f\"수익률: {profit_rate:.2f}%\")\n",
    "\n",
    "    plt.figure(figsize=(15, 6))\n",
    "    plt.plot(portfolio_history, label='Portfolio Value', color='blue')\n",
    "    plt.title('MA Crossover + LSTM Backtesting Results')\n",
    "    plt.xlabel('Time (Time Ticks)')\n",
    "    plt.ylabel('Portfolio Value (KRW)')\n",
    "    plt.legend()\n",
    "    plt.grid(True)\n",
    "    plt.show()"
   ]
  }
 ],
 "metadata": {
  "kernelspec": {
   "display_name": "venv",
   "language": "python",
   "name": "python3"
  },
  "language_info": {
   "codemirror_mode": {
    "name": "ipython",
    "version": 3
   },
   "file_extension": ".py",
   "mimetype": "text/x-python",
   "name": "python",
   "nbconvert_exporter": "python",
   "pygments_lexer": "ipython3",
   "version": "3.13.2"
  }
 },
 "nbformat": 4,
 "nbformat_minor": 5
}
